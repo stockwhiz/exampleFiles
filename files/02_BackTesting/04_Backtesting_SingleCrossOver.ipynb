{
  "metadata": {
    "kernelspec": {
      "name": "python",
      "display_name": "Python (Pyodide)",
      "language": "python"
    },
    "language_info": {
      "codemirror_mode": {
        "name": "python",
        "version": 3
      },
      "file_extension": ".py",
      "mimetype": "text/x-python",
      "name": "python",
      "nbconvert_exporter": "python",
      "pygments_lexer": "ipython3",
      "version": "3.8"
    }
  },
  "nbformat_minor": 4,
  "nbformat": 4,
  "cells": [
    {
      "cell_type": "code",
      "source": "import json\nimport js \nfrom js import fetch\nimport pandas as pd\nfrom datetime import datetime\nfrom js import Object\nfrom IPython.display import display, Markdown\n\ntry:\n    import piplite\n    from pyodide.ffi import to_js\n    await piplite.install(\"mplfinance\")\n    await piplite.install(\"finta\")\n    await piplite.install(\"ipympl\")\n    await piplite.install(\"ipywidgets\")\n    await piplite.install(\"http://localhost/staticcollected/_output/pypi/backtrader-1.9.76.123-py3-none-any.whl\")\nexcept:\n    await piplite.install(\"http://www.stockwhiz.in/staticcollected/_output/pypi/backtrader-1.9.76.123-py3-none-any.whl\")\nfinally:\n    # Special packages already ready\n    import numpy as np\n    import scipy as sp\n    import matplotlib\n    import matplotlib.pyplot as plt\n    # Custom importations from special package\n    # Below stuff to be shortened\n    import mplfinance as mpf\n    import finta \n    import ipywidgets as widgets\n    import backtrader as bt\n    import time\n    %matplotlib widget\n\n    pd.options.display.max_columns = None",
      "metadata": {
        "tags": [],
        "jupyter": {
          "source_hidden": true
        },
        "trusted": true
      },
      "execution_count": null,
      "outputs": []
    },
    {
      "cell_type": "markdown",
      "source": "---\n\n# 03 Simple moving average crossover \n\n## About\nA simple moving average trading occurs whenever the price of the stock moves over or below the average price of the stock for a said period of days\n\n## Usage\nClick the $>>$ icon above to run this script\nOr run each of the cells individually as a Jupyter Notebook\n\n## What?\nThis script provides you with an ability to determine a simple change in the moving average of the stock. \nNote: *Feel free to move around for appropriate day count at the moving average*\n\n---",
      "metadata": {}
    },
    {
      "cell_type": "markdown",
      "source": "## Grabbing data\n\n***The data being provisioned is only for educational purposes***\n\n\n*Note: You can use the free service limits usage to only 100 symbols per minute. Tampering with this system will result in discontinuation of the service*\n\n## Adding symbols\n\nPlease feel free to add any **NSE SYMBOL** to the below list",
      "metadata": {}
    },
    {
      "cell_type": "code",
      "source": "symbols = \"ITC\"",
      "metadata": {
        "trusted": true
      },
      "execution_count": null,
      "outputs": []
    },
    {
      "cell_type": "code",
      "source": "corsprox = \"https://corsproxy.io/?\"\napiBaseURL = \"https://query1.finance.yahoo.com/v8/finance/chart/\"\nrangeOfData = \"24mo\"\nintervalOfData = \"1d\"\napiSymbol = []\nfor symbol in symbols.split(\",\"):\n    apiSymbol.append(symbol+\".NS\")\nstockPandasTot = {}\nfor apiSymbolIndivi in apiSymbol:\n    print(apiSymbolIndivi)\n    apiCompleteURL = corsprox+apiBaseURL+apiSymbolIndivi+\\\n        \"?range=\"+rangeOfData+\"&interval=\"+intervalOfData\n    resp = await js.fetch(apiCompleteURL, to_js({\n                    \"mode\": \"cors\",\n                    \"credentials\":\"omit\",\n                    \"headers\": {'Accept': 'application/json',\n                                'User-Agent': 'Mozilla/5.0 (Windows NT 10.0; Win64; x64) AppleWebKit/537.36 (KHTML, like Gecko) Chrome/58.0.3029.110 Safari/537.3',\n                                'Origin':'https://yahoo.com',\n                                }\n                    }, dict_converter=Object.fromEntries))\n    text = await resp.text()\n    pan = pd.read_json(text)\n    a_hist = pan['chart'][1][0]\n    stockPandas = pd.DataFrame(a_hist['indicators']['quote'][0],\n                               index=pd.to_datetime(a_hist['timestamp'],unit='s'))\n    stockPandas = stockPandas.reindex(columns=['open','high','low','close','volume'])\n    stockPandas = stockPandas[::-1]\n    stockPandasTot[apiSymbolIndivi] = stockPandas.round(2)\n# Uncomment below line to show data\n# stockPandasTot",
      "metadata": {
        "tags": [],
        "jupyter": {
          "source_hidden": true
        },
        "trusted": true
      },
      "execution_count": null,
      "outputs": []
    },
    {
      "cell_type": "markdown",
      "source": "## Simple moving average crossover\n\n[![Moving Average crossover](https://th.bing.com/th/id/R.9de5e9b8cde12f94f618278cdd074c92?rik=yxyy%2bEHrN%2fP4ZQ&riu=http%3a%2f%2fnewtraderu.com%2fwp-content%2fuploads%2f2013%2f01%2fMovingAverage2.gif&ehk=76K1eC4aQMP%2fm4kgMZf420B2bk0Vpfzkhr2WvshtJPA%3d&risl=&pid=ImgRaw&r=0)](https://th.bing.com/th/id/R.9de5e9b8cde12f94f618278cdd074c92?rik=yxyy%2bEHrN%2fP4ZQ&riu=http%3a%2f%2fnewtraderu.com%2fwp-content%2fuploads%2f2013%2f01%2fMovingAverage2.gif&ehk=76K1eC4aQMP%2fm4kgMZf420B2bk0Vpfzkhr2WvshtJPA%3d&risl=&pid=ImgRaw&r=0)\n\nOne can choose the lengths of periods which they are interested in for crossovers\n$$\nL_1 = 5 \\\\\nL_2 = 15 \n$$\n\nThe moving average crossover signal is formed when 0th day smaller moving average is greater than the larger moving average\n- No previous trend required\n- $SMA_1 > SMA_2$\n- dates weightages are till day 3 as follows\n    - With weights as follows\n    - $ day 0 : 15 $\n    - $ day 1 : 10 $\n    - $ day 2 : 5 $\n    - $ day 3 : 2 $",
      "metadata": {}
    },
    {
      "cell_type": "code",
      "source": "## Variables\n# Your choice of moving average days\nL_1 = 5\n# Your choice of moving average days\n# Please ensure L_2 is greater than L_1\nL_2 = 15\n# Number of days checked [Can we push this dates checked to different cell?]\ndatesChecked = len(stockPandas['close'])\n# weights of each individual day (Shape in reshape function should be matched. )\nweights = np.array([15, 10, 5, 2])\n# Adding additional weights, will be helfull only while checking.\nweights = np.append(weights, np.ones((datesChecked-4,1)))\nsignalBullDict = {}",
      "metadata": {
        "trusted": true
      },
      "execution_count": null,
      "outputs": []
    },
    {
      "cell_type": "code",
      "source": "for symbol in stockPandasTot:\n    print(symbol)\n    selectData = stockPandasTot[symbol][::-1]\n    #The rows have open, high, low, close, volume data\n    SMA_1 = finta.TA.SMA(selectData,L_1)[::-1]\n    SMA_2 = finta.TA.SMA(selectData,L_2)[::-1]\n    diff = (SMA_1-SMA_2).fillna(0)\n    sign_change = (diff < 0) & (diff.shift(1) > 0)\n    signalBull = sign_change.astype(int).to_numpy()\n    signalBull = weights*signalBull\n    signalBullDict[symbol] = signalBull\n# Uncomment the below line for debugging\n# signalBullDict",
      "metadata": {
        "tags": [],
        "trusted": true
      },
      "execution_count": null,
      "outputs": []
    },
    {
      "cell_type": "markdown",
      "source": "---\n## Backtesting\nThis portion is to conduct backtest on the strategy mentioned above.",
      "metadata": {}
    },
    {
      "cell_type": "code",
      "source": "class TestStrategy(bt.Strategy):\n\n    def log(self, txt, dt=None):\n        ''' Logging function fot this strategy'''\n        dt = dt or self.datas[0].datetime.date(0)\n        print('%s, %s' % (dt.isoformat(), txt))\n\n    def __init__(self):\n        # Keep a reference to the \"close\" line in the data[0] dataseries\n        self.dataclose = self.datas[0].close\n        #Some indicators\n        self.sma1 = bt.indicators.SimpleMovingAverage(self.datas[0],period = 15)\n        self.sma2 = bt.indicators.SimpleMovingAverage(self.datas[0],period = 50)\n\n        # To keep track of pending orders and buy price/commission\n        self.order = None\n        self.buyprice = None\n        self.buycomm = None\n\n    def notify_order(self, order):\n        if order.status in [order.Submitted, order.Accepted]:\n            # Buy/Sell order submitted/accepted to/by broker - Nothing to do\n            return\n\n        # Check if an order has been completed\n        # Attention: broker could reject order if not enough cash\n        if order.status in [order.Completed]:\n            if order.isbuy():\n                self.log(\n                    'BUY EXECUTED, Price: %.2f, Cost: %.2f, Comm %.2f' %\n                    (order.executed.price,\n                     order.executed.value,\n                     order.executed.comm))\n\n                self.buyprice = order.executed.price\n                self.buycomm = order.executed.comm\n            else:  # Sell\n                self.log('SELL EXECUTED, Price: %.2f, Cost: %.2f, Comm %.2f' %\n                         (order.executed.price,\n                          order.executed.value,\n                          order.executed.comm))\n\n            self.bar_executed = len(self)\n\n        elif order.status in [order.Canceled, order.Margin, order.Rejected]:\n            self.log('Order Canceled/Margin/Rejected')\n\n        self.order = None\n\n    def notify_trade(self, trade):\n        if not trade.isclosed:\n            return\n\n        self.log('OPERATION PROFIT, GROSS %.2f, NET %.2f' %\n                 (trade.pnl, trade.pnlcomm))\n\n    def next(self):\n        # Simply log the closing price of the series from the reference\n\n        # Check if an order is pending ... if yes, we cannot send a 2nd one\n        if self.order:\n            return\n\n        # Check if we are in the market\n        if not self.position:\n            if self.sma1[-1] < self.sma2[-1]:\n                if self.sma1[0] > self.sma2[0]:\n                    # Keep track of the created order to avoid a 2nd order\n                    self.order = self.buy(size=100)\n\n        else:\n\n            # Already in the market ... we might sell\n            if self.sma1 < self.sma2:\n                # Keep track of the created order to avoid a 2nd order\n                self.order = self.sell(size=100)",
      "metadata": {
        "jupyter": {
          "source_hidden": true
        },
        "tags": [],
        "trusted": true
      },
      "execution_count": null,
      "outputs": []
    },
    {
      "cell_type": "code",
      "source": "if __name__ == '__main__':\n    cerebro = bt.Cerebro()\n    \n    cerebro.addstrategy(TestStrategy)\n    \n    data = bt.feeds.YahooFinanceCSVData(dataname=\"data.txt\",fromdate=datetime(2000, 1, 1),todate=datetime(2000, 12, 31))\n    data2 = bt.feeds.PandasData(dataname=stockPandasTot[\"ITC.NS\"][::-1])\n    cerebro.adddata(data2)\n    \n    cerebro.broker.setcash(100000)\n    \n    cerebro.broker.setcommission(commission=0.001)\n    \n    print('Starting Portfolio Value: %.2f' % cerebro.broker.getvalue())\n\n    cerebro.run()\n\n    print('Final Portfolio Value: %.2f' % cerebro.broker.getvalue())",
      "metadata": {
        "trusted": true
      },
      "execution_count": null,
      "outputs": []
    },
    {
      "cell_type": "code",
      "source": "%pip install -q ipympl\n%matplotlib widget\nprint(matplotlib.get_backend())\n\nportfolioValue = cerebro.broker.get_value()\nprint(portfolioValue)\ncerebro.plot(style=\"candlestick\",figsize=(3,1))\nprint(matplotlib.get_backend())",
      "metadata": {
        "trusted": true
      },
      "execution_count": null,
      "outputs": []
    }
  ]
}