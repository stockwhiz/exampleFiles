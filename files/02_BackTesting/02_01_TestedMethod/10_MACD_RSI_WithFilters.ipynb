{
  "cells": [
    {
      "cell_type": "code",
      "execution_count": 1,
      "metadata": {
        "jupyter": {
          "source_hidden": true
        },
        "tags": [],
        "trusted": true
      },
      "outputs": [],
      "source": [
        "#piplite presence will be shown with these statememnts\n",
        "try:    \n",
        "    import piplite\n",
        "except ModuleNotFoundError:\n",
        "    piplite=None\n",
        "# Use these packages for download of data\n",
        "if piplite:\n",
        "    await piplite.install(\"mplfinance\")\n",
        "    await piplite.install(\"finta\")\n",
        "    await piplite.install(\"ipympl\")\n",
        "    await piplite.install(\"ipywidgets\")\n",
        "    try:\n",
        "        await piplite.install(\"/pypi/backtrader-1.9.76.123-py3-none-any.whl\")\n",
        "    except ValueError as e:\n",
        "        print(\"localExampleEnv-failed\")\n",
        "        try: \n",
        "            await piplite.install(\"http://localhost/staticcollected/_output/pypi/backtrader-1.9.76.123-py3-none-any.whl\")\n",
        "        except ValueError as e:\n",
        "            print(\"localProd00env-failed\")\n",
        "            await piplite.install(\"http://www.stockwhiz.in/staticcollected/_output/pypi/backtrader-1.9.76.123-py3-none-any.whl\")\n",
        "    # This is for the fetch in piplite\n",
        "    import js \n",
        "    from pyodide.ffi import to_js\n",
        "    from js import Object\n",
        "else:\n",
        "    import yfinance\n",
        "#3 Imports of all the files\n",
        "import json\n",
        "import pandas as pd\n",
        "from datetime import datetime\n",
        "import numpy as np\n",
        "import matplotlib\n",
        "import matplotlib.pyplot as plt\n",
        "import mplfinance as mpf\n",
        "import scipy as sp\n",
        "from IPython.display import display, Markdown\n",
        "import backtrader as bt\n",
        "import finta\n",
        "import ipywidgets as widgets\n",
        "\n",
        "%matplotlib widget\n",
        "pd.options.display.max_columns = None"
      ]
    },
    {
      "cell_type": "markdown",
      "metadata": {},
      "source": [
        "---\n",
        "\n",
        "# 05 MACD Confirmed RSI\n",
        "\n",
        "Click $>>$ button to run the entire script first\n",
        "\n",
        "**Buy Signal**\n",
        "> BUY 100 shares when macd(7,13,9) higher than macd signal(7,13,9) and 25 rsi crosses above 30 at day candle interval using Heikin-Ashi Chart . Enter trade between 09:00 to 23:30\n",
        "\n",
        "**Sell Signal**\n",
        "> SELL 100 shares when macd(7,13,9) lower than macd signal(7,13,9) and 25 rsi crosses above 71 or at stop loss % of 15.0 or target profit % of 35.0 at day candle interval using Heikin-Ashi Chart chart.\n",
        "\n",
        "Please feel free to change to any **NSE SYMBOL** to the below list, separated by a comma"
      ]
    },
    {
      "cell_type": "code",
      "execution_count": 2,
      "metadata": {
        "tags": [],
        "trusted": true
      },
      "outputs": [],
      "source": [
        "symbols_1 = \"GUJGASLTD\""
      ]
    },
    {
      "cell_type": "code",
      "execution_count": 3,
      "metadata": {
        "tags": [],
        "trusted": true
      },
      "outputs": [
        {
          "name": "stdout",
          "output_type": "stream",
          "text": [
            "GUJGASLTD.NS\n"
          ]
        }
      ],
      "source": [
        "corsprox = \"https://corsproxy.io/?\"\n",
        "apiBaseURL = \"https://query1.finance.yahoo.com/v8/finance/chart/\"\n",
        "rangeOfData = \"6mo\"\n",
        "intervalOfData = \"1d\"\n",
        "apiSymbol = []\n",
        "for symbol in symbols_1.split(\",\"):\n",
        "    apiSymbol.append(symbol+\".NS\")\n",
        "stockPandasTot_1 = {}\n",
        "for apiSymbolIndivi in apiSymbol:\n",
        "    print(apiSymbolIndivi)\n",
        "    apiCompleteURL = corsprox+apiBaseURL+apiSymbolIndivi+\\\n",
        "        \"?range=\"+rangeOfData+\"&interval=\"+intervalOfData\n",
        "    options = { \"mode\": \"cors\",\n",
        "                \"credentials\":\"omit\",\n",
        "                \"headers\": {'Accept': 'application/json',\n",
        "                            'User-Agent': 'Mozilla/5.0 (Windows NT 10.0; Win64; x64) AppleWebKit/537.36 (KHTML, like Gecko) Chrome/58.0.3029.110 Safari/537.3',\n",
        "                            'Origin':'https://yahoo.com',\n",
        "                            }\n",
        "    }\n",
        "    if piplite:\n",
        "        resp = await js.fetch(apiCompleteURL, to_js(options, dict_converter=Object.fromEntries))\n",
        "        text = await resp.text()\n",
        "        pan = pd.read_json(text)\n",
        "        a_hist = pan['chart'][1][0]\n",
        "        stockPandas = pd.DataFrame(a_hist['indicators']['quote'][0],\n",
        "                               index=pd.to_datetime(a_hist['timestamp'],unit='s'))\n",
        "        stockPandas = stockPandas.reindex(columns=['open','high','low','close','volume'])\n",
        "        stockPandas = stockPandas[::-1]\n",
        "    else:\n",
        "        stockPandas = yfinance.download(apiSymbolIndivi,period=rangeOfData,interval=intervalOfData,progress=False)\n",
        "        stockPandas = stockPandas.round(2).rename(columns={\n",
        "                                                    'Open': 'open',\n",
        "                                                    'High': 'high',\n",
        "                                                    'Low': 'low',\n",
        "                                                    'Close': 'close',\n",
        "                                                    'Adj Close': 'adj close',\n",
        "                                                    'Volume': 'volume'\n",
        "                                                })\n",
        "        stockPandas = stockPandas[::-1]\n",
        "    stockPandasTot_1[apiSymbolIndivi] = stockPandas"
      ]
    },
    {
      "cell_type": "markdown",
      "metadata": {},
      "source": [
        "## An MACD line\n",
        "\n",
        "<img src=\"https://bpcdn.co/images/2015/03/25135506/MACD.png\" width=\"700\" height=\"300\"/>\n",
        "\n",
        "### Buy signal\n",
        "> BUY 100 shares when macd(7,13,9) higher than macd signal(7,13,9) and 25 rsi crosses above 30 at day candle interval using Heikin-Ashi Chart. Enter trade between 09:00 to 23:30\n",
        "- if $macd.macd[0] - macd.signal[0] > 0$\n",
        "    - The crossover happens today\n",
        "        - $rsi[-1] < 35$\n",
        "        - $rsi[0] > 35$\n",
        "    \n",
        "### Sell signal\n",
        "> SELL 100 shares when macd(7,13,9) lower than macd signal(7,13,9) and 25 rsi crosses above 71 or at stop loss % of 15.0 or target profit % of 35.0 at day candle interval using Heikin-Ashi Chart chart.\n",
        "\n",
        "If either of the below conditions are met\n",
        "- Signal condition met if $macd.macd[0] - macd.signal[0] < 0$\n",
        "    - if rsi crossover happens today\n",
        "        - $rsi[-1] < 75 $\n",
        "        - $rsi[0] > 75 $\n",
        "- Stop Loss condition met if $stock.close[0] < order.buy*0.85$\n",
        "- Target price condition met if $stock.close[0] > order.buy*1.35$"
      ]
    },
    {
      "cell_type": "code",
      "execution_count": 4,
      "metadata": {
        "jupyter": {
          "source_hidden": true
        },
        "tags": [],
        "trusted": true
      },
      "outputs": [
        {
          "data": {
            "text/markdown": [
              "# Set the variables to this strategy here"
            ],
            "text/plain": [
              "<IPython.core.display.Markdown object>"
            ]
          },
          "metadata": {},
          "output_type": "display_data"
        },
        {
          "data": {
            "text/markdown": [
              "> We will improve UI shortly"
            ],
            "text/plain": [
              "<IPython.core.display.Markdown object>"
            ]
          },
          "metadata": {},
          "output_type": "display_data"
        },
        {
          "data": {
            "text/markdown": [
              "If interested on the `coding` aspect, please click the 3 dot's above to see comments on code and change accordingly"
            ],
            "text/plain": [
              "<IPython.core.display.Markdown object>"
            ]
          },
          "metadata": {},
          "output_type": "display_data"
        },
        {
          "data": {
            "application/vnd.jupyter.widget-view+json": {
              "model_id": "e9e86acad1e3402bbfbb5671cb1a97be",
              "version_major": 2,
              "version_minor": 0
            },
            "text/plain": [
              "interactive(children=(IntSlider(value=7, continuous_update=False, description='shortPeriod', max=15, min=2), I…"
            ]
          },
          "metadata": {},
          "output_type": "display_data"
        }
      ],
      "source": [
        "display(Markdown(\"# Set the variables to this strategy here\"))\n",
        "display(Markdown(\"> We will improve UI shortly\"))\n",
        "display(Markdown(\"If interested on the `coding` aspect, please click the 3 dot's above to see comments on code and change accordingly\"))\n",
        "@widgets.interact(shortPeriod=widgets.IntSlider(min=2, max=15, step=1, value=7,continuous_update=False),longPeriod=widgets.IntSlider(min=9, max=30, step=1, value=13,continuous_update=False),\\\n",
        "                  signalPeriod=widgets.IntSlider(min=5, max=15, step=1, value=9,continuous_update=False),rsiPeriod=widgets.IntSlider(min=9, max=30, step=1, value=25,continuous_update=False),\\\n",
        "                  rsiBuyValue=widgets.IntSlider(min=20, max=50, step=1, value=30,continuous_update=False),rsiSellValue=widgets.IntSlider(min=50, max=80, step=1, value=71,continuous_update=False),\\\n",
        "                  numberOfStocks=widgets.IntSlider(min=0, max=30, step=1, value=10,continuous_update=False),initialCash=widgets.IntSlider(min=0, max=10000, step=1, value=5000,continuous_update=False),\n",
        "                 )\n",
        "def voilas(shortPeriod,longPeriod,signalPeriod,rsiPeriod,rsiBuyValue,rsiSellValue,numberOfStocks,initialCash):\n",
        "    class CrossOverStrat(bt.Strategy):\n",
        "        def __init__(self):\n",
        "            # Keep a reference to the \"close\" line in the data[0] dataseries\n",
        "            self.i =0\n",
        "            self.dataclose = self.datas[0].close\n",
        "            self.heikinDate = bt.indicators.HeikinAshi(self.datas[0])\n",
        "            #Some indicators\n",
        "            self.macd = bt.indicators.MACDHisto(self.heikinDate,period_me1=shortPeriod,period_me2=longPeriod,period_signal=signalPeriod)\n",
        "            self.rsi = bt.indicators.RSI_SMA(self.heikinDate,period=rsiPeriod)\n",
        "\n",
        "            # To keep track of pending orders and buy price/commission\n",
        "            self.order = None\n",
        "            self.buyprice = None\n",
        "            self.buycomm = None\n",
        "\n",
        "        def log(self, txt, dt=None):\n",
        "            ''' Logging function for this strategy'''\n",
        "            dt = dt or self.datas[0].datetime.date(0)\n",
        "            print('%s, %s' % (dt.isoformat(), txt))\n",
        "\n",
        "        def notify_order(self, order):\n",
        "            if order.status in [order.Submitted, order.Accepted]:\n",
        "                # Buy/Sell order submitted/accepted to/by broker - Nothing to do\n",
        "                return\n",
        "\n",
        "            # Check if an order has been completed\n",
        "            # Attention: broker could reject order if not enough cash\n",
        "            if order.status in [order.Completed]:\n",
        "                if order.isbuy():\n",
        "                    self.log(\n",
        "                        'BUY EXECUTED, Price: %.2f, Cost: %.2f, Comm %.2f' %\n",
        "                        (order.executed.price,\n",
        "                         order.executed.value,\n",
        "                         order.executed.comm))\n",
        "\n",
        "                    self.buyprice = order.executed.price\n",
        "                    self.buycomm = order.executed.comm\n",
        "                else:  # Sell\n",
        "                    self.log('SELL EXECUTED, Price: %.2f, Cost: %.2f, Comm %.2f' %\n",
        "                             (order.executed.price,\n",
        "                              order.executed.value,\n",
        "                              order.executed.comm))\n",
        "\n",
        "                self.bar_executed = len(self)\n",
        "\n",
        "            elif order.status in [order.Canceled, order.Margin, order.Rejected]:\n",
        "                self.log('Order Canceled/Margin/Rejected')\n",
        "\n",
        "            self.order = None\n",
        "\n",
        "        def notify_trade(self, trade):\n",
        "            if not trade.isclosed:\n",
        "                return\n",
        "\n",
        "            self.log('OPERATION PROFIT, GROSS %.2f, NET %.2f' %\n",
        "                     (trade.pnl, trade.pnlcomm))\n",
        "\n",
        "        def next(self):\n",
        "            # Simply log the closing price of the series from the reference\n",
        "            # Check if an order is pending ... if yes, we cannot send a 2nd one\n",
        "            if self.order:\n",
        "                return\n",
        "            # Check if we are in the market\n",
        "            if not self.position:\n",
        "                if self.macd.histo[0] > 0:\n",
        "                    if self.rsi[-1] < rsiBuyValue:\n",
        "                        if self.rsi[0] > rsiBuyValue:\n",
        "                            # Keep track of the created order to avoid a 2nd order\n",
        "                            self.order = self.buy(size=numberOfStocks)\n",
        "            else:\n",
        "                # Already in the market ... we might sell\n",
        "                if self.macd.histo[0] < 0:\n",
        "                    if self.rsi[0] > rsiSellValue:\n",
        "                        # Keep track of the created order to avoid a 2nd order\n",
        "                        self.log(f'target signal reached')\n",
        "                        self.order = self.sell(size=numberOfStocks)\n",
        "                if self.dataclose[0] >= 1.35*self.buyprice:\n",
        "                    self.log(f'target price reached')\n",
        "                    self.order = self.sell(size=numberOfStocks)\n",
        "                if self.dataclose[0] <= 0.85*self.buyprice:\n",
        "                    self.log(f'stop loss reached')\n",
        "                    self.order = self.sell(size=numberOfStocks)\n",
        "    cerebro = bt.Cerebro()\n",
        "\n",
        "    for symbol in stockPandasTot_1:\n",
        "        data = bt.feeds.PandasData(dataname=stockPandasTot_1[symbol][::-1])\n",
        "        cerebro.adddata(data)\n",
        "\n",
        "    cerebro.addstrategy(CrossOverStrat)\n",
        "\n",
        "    cerebro.broker.setcash(initialCash)\n",
        "\n",
        "    cerebro.broker.setcommission(commission=0.001)\n",
        "\n",
        "    print('Starting Portfolio Value: %.2f' % cerebro.broker.getvalue())\n",
        "\n",
        "    cerebro.run()\n",
        "\n",
        "    print('Final Portfolio Value: %.2f' % cerebro.broker.getvalue())\n",
        "    matplotlib.use(\"nbAgg\")\n",
        "    cerebro.plot(style='candlestick',iplot=True)"
      ]
    },
    {
      "cell_type": "markdown",
      "metadata": {},
      "source": [
        "---\n",
        "### Understanding above plot\n",
        "\n",
        "> Please increase the size of the plot to the entire width of the screen, before reading this section. You can do the same by dragging the triangular element shown at the bottom right corner of the plot\n",
        "\n",
        "The plot above has quite a lines and legends on them.\n",
        "The legend is available on the left side indicating various items.\n",
        "\n",
        "We shall move from the bottom most element and move upwards.\n",
        "#### MACD\n",
        "The Moving Average Convergence/Divergence represents a variation in the average price of stocks, It consists of 2 lines representing a short period and a long period. A histogram represents the difference in values of these two lines. I would direct the user towards this [wiki](https://en.wikipedia.org/wiki/MACD)\n",
        "#### RSI_SMA\n",
        "This represent the rsi value of the stock for the said time period, as a slightly involved definition I direct the user towards [wiki](https://en.wikipedia.org/wiki/Relative_strength_index). These idicators are even used in economic decision making of countries.\n",
        "#### Volume\n",
        "The volume is indicated by bars of either gray or red colour. The respective value is availabe on the left part of the plot along the y-axis. Exact values for volume cannot be extracted currently. A red bar indicates a decrease in stock price over the time period. A grey bar indicates an increase in stock price over the given time period.\n",
        "#### Close price line\n",
        "The black line represents the close price line of the stock over a period of 48months, dates are visible at bottom of graph extracted from x value.\n",
        "\n",
        " *If you would like a candle stick pattern please add `style=\"candlestick\"` to the arguments of the arguments of the plot command*\n",
        " \n",
        "The default candlestick patterns are available over the course of the day, these follow the typical format with grey representing a rise in prices and red representing a fall in prices. Exact price and date values of cursor position are available at the bottom. The x-value represents date, while the y-value represents the price at cursor location.\n",
        "#### Triangles\n",
        "The triangles represent positions taken up according to the strategy mentioned by code above. A buy position/ signal will be generated if the triangle is green and pointed upwards, while a sell position/ sell signal is generated with the red downward pointing triangle.\n",
        "#### Trading dots\n",
        "The next canvas involves a set of dots representing either profit or losses which have occured by following the strategy. Here too the magnitudes can be separated by the colour of the dot and the cursor value on hovering over dots. One can also approximate the values with the data on the scale located on the right.\n",
        "#### Portfolio value\n",
        "The final screen on the top indicates the portfolio value and cash value. Each are differentiated by the respective color."
      ]
    },
    {
      "cell_type": "markdown",
      "metadata": {},
      "source": [
        "---\n",
        "## Filtering Several Stocks\n",
        "\n",
        "In this section we will be filtering through lists of stocks to understand which satisfy either our buy or sell signals.\n",
        "\n",
        "We recommend the user to rebalance their portfolio by running this script once every day at 15:00 and rebalance their portfolio using the signals generated here.\n",
        "\n",
        "### Legend\n",
        "\n",
        "- $[-30,-1]$: Used to signify a sell signal\n",
        "- $[1,30]$  : Used to signify a BUY signal\n",
        "- $0$       : Used to signify no action required."
      ]
    },
    {
      "cell_type": "code",
      "execution_count": 5,
      "metadata": {
        "trusted": true
      },
      "outputs": [],
      "source": [
        "symbols_02 = \"ADANIENT,ADANIPORTS,APOLLOHOSP,ASIANPAINT,AXISBANK,\\\n",
        "BAJAJ-AUTO,BAJFINANCE,BAJAJFINSV,BHARTIARTL,BPCL,BRITANNIA,\\\n",
        "CIPLA,COALINDIA,\\\n",
        "DIVISLAB,DRREDDY,\\\n",
        "EICHERMOT,\\\n",
        "GRASIM,\\\n",
        "HCLTECH,HDFC,HDFCBANK,HDFCLIFE,HEROMOTOCO,HINDALCO,HINDUNILVR,\\\n",
        "ICICIBANK,INDUSINDBK,INFY,ITC,\\\n",
        "JSWSTEEL,\\\n",
        "KOTAKBANK,\\\n",
        "LT,\\\n",
        "M&M,MARUTI,\\\n",
        "NESTLEIND,NTPC,\\\n",
        "ONGC,\\\n",
        "POWERGRID,\\\n",
        "RELIANCE,\\\n",
        "SBIN,SBILIFE,SUNPHARMA,\\\n",
        "TATAMOTORS,TATASTEEL,TCS,TATACONSUM,TECHM,TITAN,\\\n",
        "ULTRACEMCO,UPL,\\\n",
        "WIPRO\""
      ]
    },
    {
      "cell_type": "code",
      "execution_count": 6,
      "metadata": {
        "jupyter": {
          "source_hidden": true
        },
        "tags": [],
        "trusted": true
      },
      "outputs": [
        {
          "name": "stdout",
          "output_type": "stream",
          "text": [
            "ADANIENT.NS\n",
            "ADANIPORTS.NS\n",
            "APOLLOHOSP.NS\n",
            "ASIANPAINT.NS\n",
            "AXISBANK.NS\n",
            "BAJAJ-AUTO.NS\n",
            "BAJFINANCE.NS\n",
            "BAJAJFINSV.NS\n",
            "BHARTIARTL.NS\n",
            "BPCL.NS\n",
            "BRITANNIA.NS\n",
            "CIPLA.NS\n",
            "COALINDIA.NS\n",
            "DIVISLAB.NS\n",
            "DRREDDY.NS\n",
            "EICHERMOT.NS\n",
            "GRASIM.NS\n",
            "HCLTECH.NS\n",
            "HDFC.NS\n",
            "HDFCBANK.NS\n",
            "HDFCLIFE.NS\n",
            "HEROMOTOCO.NS\n",
            "HINDALCO.NS\n",
            "HINDUNILVR.NS\n",
            "ICICIBANK.NS\n",
            "INDUSINDBK.NS\n",
            "INFY.NS\n",
            "ITC.NS\n",
            "JSWSTEEL.NS\n",
            "KOTAKBANK.NS\n",
            "LT.NS\n",
            "M&M.NS\n",
            "MARUTI.NS\n",
            "NESTLEIND.NS\n",
            "NTPC.NS\n",
            "ONGC.NS\n",
            "POWERGRID.NS\n",
            "RELIANCE.NS\n",
            "SBIN.NS\n",
            "SBILIFE.NS\n",
            "SUNPHARMA.NS\n",
            "TATAMOTORS.NS\n",
            "TATASTEEL.NS\n",
            "TCS.NS\n",
            "TATACONSUM.NS\n",
            "TECHM.NS\n",
            "TITAN.NS\n",
            "ULTRACEMCO.NS\n",
            "UPL.NS\n",
            "WIPRO.NS\n"
          ]
        }
      ],
      "source": [
        "corsprox = \"https://corsproxy.io/?\"\n",
        "apiBaseURL = \"https://query1.finance.yahoo.com/v8/finance/chart/\"\n",
        "rangeOfData = \"3mo\"\n",
        "intervalOfData = \"1d\"\n",
        "apiSymbol = []\n",
        "for symbol in symbols_02.split(\",\"):\n",
        "    apiSymbol.append(symbol+\".NS\")\n",
        "stockPandasTot_02 = {}\n",
        "for apiSymbolIndivi in apiSymbol:\n",
        "    print(apiSymbolIndivi)\n",
        "    apiCompleteURL = corsprox+apiBaseURL+apiSymbolIndivi+\\\n",
        "        \"?range=\"+rangeOfData+\"&interval=\"+intervalOfData\n",
        "    options = { \"mode\": \"cors\",\n",
        "                \"credentials\":\"omit\",\n",
        "                \"headers\": {'Accept': 'application/json',\n",
        "                            'User-Agent': 'Mozilla/5.0 (Windows NT 10.0; Win64; x64) AppleWebKit/537.36 (KHTML, like Gecko) Chrome/58.0.3029.110 Safari/537.3',\n",
        "                            'Origin':'https://yahoo.com',\n",
        "                            }\n",
        "    }\n",
        "    if piplite:\n",
        "        resp = await js.fetch(apiCompleteURL, to_js(options, dict_converter=Object.fromEntries))\n",
        "        text = await resp.text()\n",
        "        pan = pd.read_json(text)\n",
        "        a_hist = pan['chart'][1][0]\n",
        "        stockPandas = pd.DataFrame(a_hist['indicators']['quote'][0],\n",
        "                               index=pd.to_datetime(a_hist['timestamp'],unit='s'))\n",
        "        stockPandas = stockPandas.reindex(columns=['open','high','low','close','volume'])\n",
        "        stockPandas = stockPandas[::-1]\n",
        "    else:\n",
        "        stockPandas = yfinance.download(apiSymbolIndivi,period=rangeOfData,interval=intervalOfData,progress=False)\n",
        "        stockPandas = stockPandas.round(2).rename(columns={\n",
        "                                                    'Open': 'open',\n",
        "                                                    'High': 'high',\n",
        "                                                    'Low': 'low',\n",
        "                                                    'Close': 'close',\n",
        "                                                    'Adj Close': 'adj close',\n",
        "                                                    'Volume': 'volume'\n",
        "                                                })\n",
        "        stockPandas = stockPandas[::-1]\n",
        "    stockPandasTot_02[apiSymbolIndivi] = stockPandas"
      ]
    },
    {
      "cell_type": "code",
      "execution_count": 7,
      "metadata": {
        "trusted": true
      },
      "outputs": [],
      "source": [
        "## Variables\n",
        "# Number of days checked [Can we push this dates checked to different cell?]\n",
        "datesChecked = 16\n",
        "# weights of each individual day (Shape in reshape function should be matched. )\n",
        "weights = np.array([15, 10, 5, 2])\n",
        "# Adding additional weights, will be helfull only while checking.\n",
        "weights = np.append(weights, np.ones((datesChecked-4,1)))\n",
        "signalBullDict = {}"
      ]
    },
    {
      "cell_type": "code",
      "execution_count": 17,
      "metadata": {
        "trusted": true
      },
      "outputs": [
        {
          "name": "stdout",
          "output_type": "stream",
          "text": [
            "WIPRO.NS\n",
            "Date\n",
            "2023-05-05    False\n",
            "2023-05-04    False\n",
            "2023-05-03    False\n",
            "2023-05-02    False\n",
            "2023-04-28    False\n",
            "2023-04-27    False\n",
            "2023-04-26    False\n",
            "2023-04-25    False\n",
            "2023-04-24    False\n",
            "2023-04-21    False\n",
            "2023-04-20    False\n",
            "2023-04-19    False\n",
            "2023-04-18     True\n",
            "2023-04-17    False\n",
            "2023-04-13    False\n",
            "2023-04-12     True\n",
            "2023-04-11    False\n",
            "2023-04-10    False\n",
            "2023-04-06    False\n",
            "2023-04-05    False\n",
            "2023-04-03    False\n",
            "2023-03-31    False\n",
            "2023-03-29    False\n",
            "2023-03-28    False\n",
            "2023-03-27    False\n",
            "2023-03-24    False\n",
            "2023-03-23    False\n",
            "2023-03-22    False\n",
            "2023-03-21    False\n",
            "2023-03-20    False\n",
            "2023-03-17    False\n",
            "2023-03-16    False\n",
            "2023-03-15    False\n",
            "2023-03-14    False\n",
            "2023-03-13    False\n",
            "2023-03-10    False\n",
            "2023-03-09    False\n",
            "2023-03-08     True\n",
            "2023-03-06    False\n",
            "2023-03-03    False\n",
            "2023-03-02    False\n",
            "2023-03-01    False\n",
            "2023-02-28    False\n",
            "2023-02-27    False\n",
            "2023-02-24    False\n",
            "2023-02-23    False\n",
            "2023-02-22    False\n",
            "2023-02-21     True\n",
            "2023-02-20    False\n",
            "2023-02-17    False\n",
            "2023-02-16    False\n",
            "2023-02-15    False\n",
            "2023-02-14    False\n",
            "2023-02-13    False\n",
            "2023-02-10     True\n",
            "2023-02-09    False\n",
            "2023-02-08    False\n",
            "2023-02-07    False\n",
            "2023-02-06    False\n",
            "Name: 25 period RSI, dtype: bool\n",
            "\n"
          ]
        }
      ],
      "source": [
        "for symbol_02 in stockPandasTot_02:\n",
        "    # Reversing data because finta likes calculations with oldest date on top\n",
        "    selectData = stockPandasTot_02[symbol_02][::-1]\n",
        "    # These data are reversed again to show the latest date at the top row.\n",
        "    MACD = finta.TA.MACD(selectData,7,13,9)[::-1]\n",
        "    RSI = finta.TA.RSI(selectData,25)[::-1]\n",
        "    diff = (MACD['MACD']- MACD['SIGNAL']).fillna(0)\n",
        "print(symbol_02)\n",
        "print((RSI >= 40) & (RSI.shift(1).fillna(50) < 40) )\n"
      ]
    },
    {
      "cell_type": "code",
      "execution_count": null,
      "metadata": {},
      "outputs": [],
      "source": []
    }
  ],
  "metadata": {
    "kernelspec": {
      "display_name": "exampleFiles",
      "language": "python",
      "name": "python3"
    },
    "language_info": {
      "codemirror_mode": {
        "name": "ipython",
        "version": 3
      },
      "file_extension": ".py",
      "mimetype": "text/x-python",
      "name": "python",
      "nbconvert_exporter": "python",
      "pygments_lexer": "ipython3",
      "version": "3.10.10"
    }
  },
  "nbformat": 4,
  "nbformat_minor": 4
}
