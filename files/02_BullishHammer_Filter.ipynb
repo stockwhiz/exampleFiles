{
  "cells": [
    {
      "cell_type": "code",
      "execution_count": null,
      "metadata": {
        "jupyter": {
          "source_hidden": true
        },
        "tags": [],
        "trusted": true
      },
      "outputs": [],
      "source": [
        "# Import packages for calculations\n",
        "#piplite presence will be shown with these statememnts\n",
        "try:    \n",
        "    import piplite\n",
        "except ModuleNotFoundError:\n",
        "    piplite=None\n",
        "# Use these packages for download of data\n",
        "if piplite:\n",
        "    await piplite.install(\"mplfinance\")\n",
        "    await piplite.install(\"jinja2\")\n",
        "    # This is for the fetch in piplite\n",
        "    import js \n",
        "    from pyodide.ffi import to_js\n",
        "    from js import Object\n",
        "else:\n",
        "    import yfinance\n",
        "#3 Imports of all the files\n",
        "import json\n",
        "import pandas as pd\n",
        "from datetime import datetime\n",
        "import numpy as np\n",
        "import matplotlib.pyplot as plt\n",
        "import mplfinance as mpf\n",
        "import scipy as sp\n",
        "\n",
        "pd.options.display.max_columns = None"
      ]
    },
    {
      "attachments": {},
      "cell_type": "markdown",
      "metadata": {},
      "source": [
        "---\n",
        "\n",
        "# 02 Hammer Formation\n",
        "\n",
        "## About\n",
        "A Bullish hammer is formed at the end of a downward rally. It displays a reverse in the downwards movement of a stock.\n",
        "\n",
        "## Usage\n",
        "Click the >> (Run all steps) icon above to run this script\n",
        "\n",
        "## What\n",
        "This script provides you with an ability to determine the Bullish hammer cadlestick pattern. The script has been explained in [this](https://zerodha.com/varsity/chapter/single-candlestick-patterns-part-3/) blog post by Karthik Rangappa.\n",
        "*Note: Values are changed, feel free to change them*\n",
        "\n",
        "---"
      ]
    },
    {
      "attachments": {},
      "cell_type": "markdown",
      "metadata": {},
      "source": [
        "## Grabbing data\n",
        "\n",
        "***The data being provisioned is only for educational purposes***\n",
        "\n",
        "\n",
        "*Note: You can use the free service limits usage to only 100 symbols per minute. Tampering with this system will result in discontinuation of the service*\n",
        "\n",
        "## Adding symbols\n",
        "\n",
        "Please feel free to add any **NSE SYMBOL** to the below list"
      ]
    },
    {
      "cell_type": "code",
      "execution_count": null,
      "metadata": {
        "trusted": true
      },
      "outputs": [],
      "source": [
        "# The stock list to be considered (NIFTY FIFTY currently)\n",
        "symbols = \"ADANIENT,ADANIPORTS,APOLLOHOSP,ASIANPAINT,AXISBANK,\\\n",
        "BAJAJ-AUTO,BAJFINANCE,BAJAJFINSV,BHARTIARTL,BPCL,BRITANNIA,\\\n",
        "CIPLA,COALINDIA,\\\n",
        "DIVISLAB,DRREDDY,\\\n",
        "EICHERMOT,\\\n",
        "GRASIM,\\\n",
        "HCLTECH,HDFC,HDFCBANK,HDFCLIFE,HEROMOTOCO,HINDALCO,HINDUNILVR,\\\n",
        "ICICIBANK,INDUSINDBK,INFY,ITC,\\\n",
        "JSWSTEEL,\\\n",
        "KOTAKBANK,\\\n",
        "LT,\\\n",
        "M&M,MARUTI,\\\n",
        "NESTLEIND,NTPC,\\\n",
        "ONGC,\\\n",
        "POWERGRID,\\\n",
        "RELIANCE,\\\n",
        "SBIN,SBILIFE,SUNPHARMA,\\\n",
        "TATAMOTORS,TATASTEEL,TCS,TATACONSUM,TECHM,TITAN,\\\n",
        "ULTRACEMCO,UPL,\\\n",
        "WIPRO\""
      ]
    },
    {
      "cell_type": "code",
      "execution_count": null,
      "metadata": {
        "jupyter": {
          "source_hidden": true
        },
        "tags": [],
        "trusted": true
      },
      "outputs": [],
      "source": [
        "# Download historical data for above list\n",
        "corsprox = \"https://corsproxy.io/?\"\n",
        "apiBaseURL = \"https://query1.finance.yahoo.com/v8/finance/chart/\"\n",
        "rangeOfData = \"1mo\"\n",
        "intervalOfData = \"1d\"\n",
        "apiSymbol = []\n",
        "for symbol in symbols.split(\",\"):\n",
        "    apiSymbol.append(symbol+\".NS\")\n",
        "stockPandasTot = {}\n",
        "for apiSymbolIndivi in apiSymbol:\n",
        "    print(apiSymbolIndivi)\n",
        "    apiCompleteURL = corsprox+apiBaseURL+apiSymbolIndivi+\\\n",
        "        \"?range=\"+rangeOfData+\"&interval=\"+intervalOfData\n",
        "    options = { \"mode\": \"cors\",\n",
        "                \"credentials\":\"omit\",\n",
        "                \"headers\": {'Accept': 'application/json',\n",
        "                            'User-Agent': 'Mozilla/5.0 (Windows NT 10.0; Win64; x64) AppleWebKit/537.36 (KHTML, like Gecko) Chrome/58.0.3029.110 Safari/537.3',\n",
        "                            'Origin':'https://yahoo.com',\n",
        "                            }\n",
        "    }\n",
        "    if piplite:\n",
        "        resp = await js.fetch(apiCompleteURL, to_js(options, dict_converter=Object.fromEntries))\n",
        "        text = await resp.text()\n",
        "        pan = pd.read_json(text)\n",
        "        a_hist = pan['chart'][1][0]\n",
        "        stockPandas = pd.DataFrame(a_hist['indicators']['quote'][0],\n",
        "                               index=pd.to_datetime(a_hist['timestamp'],unit='s'))\n",
        "        stockPandas = stockPandas.reindex(columns=['open','high','low','close','volume'])\n",
        "        stockPandas = stockPandas[::-1]\n",
        "    else:\n",
        "        stockPandas = yfinance.download(apiSymbolIndivi,period=rangeOfData,interval=intervalOfData,progress=False)\n",
        "        stockPandas = stockPandas.round(2).rename(columns={\n",
        "                                                    'Open': 'open',\n",
        "                                                    'High': 'high',\n",
        "                                                    'Low': 'low',\n",
        "                                                    'Close': 'close',\n",
        "                                                    'Adj Close': 'adj close',\n",
        "                                                    'Volume': 'volume'\n",
        "                                                })\n",
        "        stockPandas = stockPandas[::-1]\n",
        "    stockPandasTot[apiSymbolIndivi] = stockPandas"
      ]
    },
    {
      "attachments": {},
      "cell_type": "markdown",
      "metadata": {},
      "source": [
        "## Hammer formation\n",
        "\n",
        "[![A Bullish Hammer](https://www.daytradetheworld.com/wp-content/uploads/2020/05/bullish-hammer-1.png)](https://www.daytradetheworld.com/wp-content/uploads/2020/05/bullish-hammer-1.png)\n",
        "\n",
        "A bullish hammer is formed at the bootom of a downtrend also indicating there is a trend reversal. \n",
        "\n",
        "### Parameters\n",
        "A bullish hammer signal occurs on day 0.\n",
        "\n",
        "Interprating from the blog entry above we have \n",
        "\n",
        "- A downward trend required \n",
        "    - Currently not implemented\n",
        "- Current colour of candle unimportant\n",
        "    - $Close > Open || Open > Close$\n",
        "- Upper shadow within 0.3%\n",
        "- Lower shadow greater than 2% \n",
        "- dates weightages are till day 3 as follows\n",
        "    - day0: 15\n",
        "    - day1: 10\n",
        "    - day2: 5\n",
        "    - day3: 2\n"
      ]
    },
    {
      "cell_type": "code",
      "execution_count": null,
      "metadata": {
        "trusted": true
      },
      "outputs": [],
      "source": [
        "# Setup variables for calculations (Bullish Hammer)\n",
        "## Variables\n",
        "# Number of days checked [Can we push this dates checked to different cell?]\n",
        "datesChecked = 16\n",
        "# weights of each individual day (Shape in reshape function should be matched. )\n",
        "weights = np.array([15, 10, 5, 2])\n",
        "# Adding additional weights, will be helfull only while checking.\n",
        "weights = np.append(weights, np.ones((datesChecked-4,1)))\n",
        "signalHammerDict = {}"
      ]
    },
    {
      "cell_type": "code",
      "execution_count": null,
      "metadata": {
        "trusted": true
      },
      "outputs": [],
      "source": [
        "# Calculate the method mentioned above (Filename)\n",
        "for symbol in stockPandasTot:\n",
        "    selectData = stockPandasTot[symbol].to_numpy()\n",
        "    signalHammer = np.zeros(datesChecked)\n",
        "    for i in range(datesChecked) :\n",
        "        row = selectData[i,:]\n",
        "        # The rows have open, high, low, close volume data\n",
        "        # Since colour is unimportant, we are taking the \n",
        "        # lower and higher points\n",
        "        # of candlestick\n",
        "        canOpen = row[0]\n",
        "        canHigh = row[1]\n",
        "        canLow = row[2]\n",
        "        canClose = row[3]\n",
        "        if canOpen >= canClose:\n",
        "            higherCan = canOpen\n",
        "            lowerCan = canClose\n",
        "        else:\n",
        "            lowerCan = canOpen\n",
        "            higherCan = canClose\n",
        "        upperShadow = (canHigh - higherCan)\n",
        "        lowerShadow = (lowerCan - canLow)\n",
        "        if upperShadow / canClose < 0.003:\n",
        "            if lowerShadow / canClose > 0.01:\n",
        "                if (higherCan-lowerCan) / canClose < 0.005:\n",
        "                    signalHammer[i] = 1\n",
        "    signalHammer = weights*signalHammer\n",
        "    signalHammerDict[symbol] = signalHammer"
      ]
    },
    {
      "attachments": {},
      "cell_type": "markdown",
      "metadata": {},
      "source": [
        "---\n",
        "### Displaying results \n",
        "In this section we shall see the various manners that we can display the results\n",
        "\n",
        "The below dataframe shows how the bullish signal has appeared on the chart for the past 50 days"
      ]
    },
    {
      "cell_type": "code",
      "execution_count": null,
      "metadata": {
        "trusted": true
      },
      "outputs": [],
      "source": [
        "# Display results in a dataframe\n",
        "signalBullPand = pd.DataFrame(signalHammerDict).T\n",
        "\n",
        "def color_mapper(row):\n",
        "    # compute the sum of the row\n",
        "    sum = row.sum()\n",
        "    # if the sum is negative, return red\n",
        "    if sum < 0:\n",
        "        return ['color: white; background-color: rgb(120, 50, 20)'] * len(row)\n",
        "    # if the sum is positive, map it to a shade of green based on its magnitude\n",
        "    else:\n",
        "        magnitude = sum*10\n",
        "        r = 15\n",
        "        g = magnitude\n",
        "        b = 15\n",
        "        return [f'color: white; background-color: rgb({r},{g},{b})'] * len(row)\n",
        "\n",
        "def make_pretty(styler):\n",
        "    styler.apply(color_mapper,axis=1)\n",
        "    styler.format(precision=1)\n",
        "    return styler\n",
        "\n",
        "signalBullPand.style.pipe(make_pretty)"
      ]
    },
    {
      "attachments": {},
      "cell_type": "markdown",
      "metadata": {},
      "source": [
        "### Plotting\n",
        "Innumerous plotting is possible with several methods I prefer the mplfinance package, but others will be easily implemented. Here you can see the volumes, \n",
        "moving averages and candlebar."
      ]
    },
    {
      "cell_type": "code",
      "execution_count": null,
      "metadata": {
        "trusted": true
      },
      "outputs": [],
      "source": [
        "# Display images of the stock (Not yet supported)\n",
        "for symbol in stockPandasTot:\n",
        "    stockPandas = stockPandasTot[symbol]\n",
        "    print(symbol)\n",
        "    mpf.plot(stockPandas.iloc[::-1],type='candle',mav=(3,6,9),volume=True)"
      ]
    }
  ],
  "metadata": {
    "kernelspec": {
      "display_name": "exampleFiles",
      "language": "python",
      "name": "python3"
    },
    "language_info": {
      "codemirror_mode": {
        "name": "python",
        "version": 3
      },
      "file_extension": ".py",
      "mimetype": "text/x-python",
      "name": "python",
      "nbconvert_exporter": "python",
      "pygments_lexer": "ipython3",
      "version": "3.10.10"
    }
  },
  "nbformat": 4,
  "nbformat_minor": 4
}
