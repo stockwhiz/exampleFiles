{
  "metadata": {
    "kernelspec": {
      "name": "python",
      "display_name": "Python (Pyodide)",
      "language": "python"
    },
    "language_info": {
      "codemirror_mode": {
        "name": "python",
        "version": 3
      },
      "file_extension": ".py",
      "mimetype": "text/x-python",
      "name": "python",
      "nbconvert_exporter": "python",
      "pygments_lexer": "ipython3",
      "version": "3.8"
    }
  },
  "nbformat_minor": 4,
  "nbformat": 4,
  "cells": [
    {
      "cell_type": "code",
      "source": "#piplite presence will be shown with these statememnts\ntry:    \n    import piplite\nexcept ModuleNotFoundError:\n    piplite=None\n# Use these packages for download of data\nif piplite:\n    await piplite.install(\"mplfinance\")\n    await piplite.install(\"finta\")\n    await piplite.install(\"ipympl\")\n    await piplite.install(\"ipywidgets\")\n    try:\n        await piplite.install(\"/pypi/backtrader-1.9.76.123-py3-none-any.whl\")\n    except ValueError as e:\n        print(\"localExampleEnv-failed\")\n        try: \n            await piplite.install(\"http://localhost/staticcollected/_output/pypi/backtrader-1.9.76.123-py3-none-any.whl\")\n        except ValueError as e:\n            print(\"localProd00env-failed\")\n            await piplite.install(\"http://www.stockwhiz.in/staticcollected/_output/pypi/backtrader-1.9.76.123-py3-none-any.whl\")\n    # This is for the fetch in piplite\n    import js \n    from pyodide.ffi import to_js\n    from js import Object\nelse:\n    import yfinance\n#3 Imports of all the files\nimport json\nimport pandas as pd\nfrom datetime import datetime\nimport numpy as np\nimport matplotlib\nimport matplotlib.pyplot as plt\nimport mplfinance as mpf\nimport scipy as sp\nfrom IPython.display import display, Markdown\nimport backtrader as bt\nimport finta\nimport ipywidgets as widgets\n\n%matplotlib widget\npd.options.display.max_columns = None",
      "metadata": {
        "tags": [],
        "jupyter": {
          "source_hidden": true
        },
        "trusted": true
      },
      "execution_count": 1,
      "outputs": []
    },
    {
      "cell_type": "markdown",
      "source": "---\n\n# 07 Bollinger Mean Reversion\n\nClick $>>$ button to run the entire script first\n\n**Buy Signal**\n> SELL 100 shares when close crosses above UBB(20,1,0) at 15min candle interval using Candlestick chart chart. Enter trade between 09:00 to 23:59 Enter trade between 09:00 to 23:59\n\n**Sell Signal**\n> BUY 100 shares when Close crosses below UBB(20,1,0) or at stop loss % of 1.0 or target profit % of 2.0 at 15min candle interval using Candlestick chart chart.\n\nPlease feel free to change to any **NSE SYMBOL** to the below list, separated by a comma",
      "metadata": {}
    },
    {
      "cell_type": "code",
      "source": "symbols=\"SBILIFE\"",
      "metadata": {
        "trusted": true
      },
      "execution_count": 17,
      "outputs": []
    },
    {
      "cell_type": "code",
      "source": "corsprox = \"https://corsproxy.io/?\"\napiBaseURL = \"https://query1.finance.yahoo.com/v8/finance/chart/\"\nrangeOfData = \"7d\"\nintervalOfData = \"15m\"\napiSymbol = []\nfor symbol in symbols.split(\",\"):\n    apiSymbol.append(symbol+\".NS\")\nstockPandasTot = {}\nfor apiSymbolIndivi in apiSymbol:\n    print(apiSymbolIndivi)\n    apiCompleteURL = corsprox+apiBaseURL+apiSymbolIndivi+\\\n        \"?range=\"+rangeOfData+\"&interval=\"+intervalOfData\n    options = { \"mode\": \"cors\",\n                \"credentials\":\"omit\",\n                \"headers\": {'Accept': 'application/json',\n                            'User-Agent': 'Mozilla/5.0 (Windows NT 10.0; Win64; x64) AppleWebKit/537.36 (KHTML, like Gecko) Chrome/58.0.3029.110 Safari/537.3',\n                            'Origin':'https://yahoo.com',\n                            }\n    }\n    if piplite:\n        resp = await js.fetch(apiCompleteURL, to_js(options, dict_converter=Object.fromEntries))\n        text = await resp.text()\n        pan = pd.read_json(text)\n        a_hist = pan['chart'][1][0]\n        stockPandas = pd.DataFrame(a_hist['indicators']['quote'][0],\n                               index=pd.to_datetime(a_hist['timestamp'],unit='s'))\n        stockPandas = stockPandas.reindex(columns=['open','high','low','close','volume'])\n        stockPandas = stockPandas[::-1]\n    else:\n        stockPandas = yfinance.download(apiSymbolIndivi,period=rangeOfData,interval=intervalOfData,progress=False)\n        stockPandas = stockPandas.round(2).rename(columns={\n                                                    'Open': 'open',\n                                                    'High': 'high',\n                                                    'Low': 'low',\n                                                    'Close': 'close',\n                                                    'Adj Close': 'adj close',\n                                                    'Volume': 'volume'\n                                                })\n        stockPandas = stockPandas[::-1]\n    stockPandasTot[apiSymbolIndivi] = stockPandas",
      "metadata": {
        "tags": [],
        "jupyter": {
          "source_hidden": true
        },
        "trusted": true
      },
      "execution_count": 39,
      "outputs": [
        {
          "name": "stdout",
          "text": "SBILIFE.NS\n",
          "output_type": "stream"
        }
      ]
    },
    {
      "cell_type": "markdown",
      "source": "## A Heikin Ashin Chart\n\n<img src=\"https://scanz.com/wp-content/uploads/2018/12/bollingerbands.jpg\" width=\"900\" height=\"300\"/>\n\n### Buy signal\n> SELL 100 shares when close crosses above UBB(20,1,0) at 15min candle interval using Candlestick chart chart. Enter trade between 09:00 to 23:59\n\n- if $close[0] > upperBollingerBand(20,1)$\n    \n### Sell signal\n> BUY 100 shares when Close crosses below UBB(20,1,0) or at stop loss % of 1.0 or target profit % of 2.0 at 15min candle interval using Candlestick chart chart.\n\nIf either of the below conditions are met\n- if $close[0] < upperBollingerBand(20,1)$\n- Stop Loss condition met if $close[0] < order.buy*0.95$\n- Target price condition met if $close[0] > order.buy*1.06$",
      "metadata": {}
    },
    {
      "cell_type": "code",
      "source": "display(Markdown(\"# Set the variables to this strategy here\"))\ndisplay(Markdown(\"> We will improve UI shortly\"))\ndisplay(Markdown(\"If interested on the `coding` aspect, please click the 3 dot's above to see comments on code and change accordingly\"))\n@widgets.interact(stopLoss=widgets.FloatSlider(\n                                    value=1,\n                                    min=0,\n                                    max=5,\n                                    step=0.01,\n                                    description='Stop Loss %:',\n                                    disabled=False,\n                                    continuous_update=False,\n                                    orientation='horizontal',\n                                    readout=True,\n                                    readout_format='.2f',\n                                ),\\\n                  targetPrice=widgets.FloatSlider(\n                                    value=2,\n                                    min=0,\n                                    max=3,\n                                    step=0.01,\n                                    description='Target Price %:',\n                                    disabled=False,\n                                    continuous_update=False,\n                                    orientation='horizontal',\n                                    readout=True,\n                                    readout_format='.2f',\n                                ),\\\n                  cash=widgets.IntSlider(\n                                    value=50000,\n                                    min=0,\n                                    max=100000,\n                                    step=500,\n                                    description='Cash (Rs):',\n                                    disabled=False,\n                                    continuous_update=False,\n                                    orientation='horizontal',\n                                    readout=True,\n                                ),\\\n                  BbPeriod=widgets.IntSlider(\n                                    value=20,\n                                    min=5,\n                                    max=30,\n                                    step=1,\n                                    description='BB period (candles):',\n                                    disabled=False,\n                                    continuous_update=False,\n                                    orientation='horizontal',\n                                    readout=True,\n                                ),\\\n                  size=widgets.IntSlider(\n                                    value=10,\n                                    min=1,\n                                    max=100,\n                                    step=1,\n                                    description='Size (#):',\n                                    disabled=False,\n                                    continuous_update=False,\n                                    orientation='horizontal',\n                                    readout=True,\n                                ),\\\n                 )\ndef voilas(cash,stopLoss,targetPrice,BbPeriod,size):\n    class BullishMACrossover(bt.Strategy):\n        def __init__(self):\n            #Some indicators\n            self.bb = bt.indicators.BollingerBands(period=BbPeriod,devfactor=1)\n            #if close > bb then signal=+1\n            self.signalSell = bt.indicators.CrossOver(self.datas[0].close,self.bb.top,plot=False)\n            self.signalBuy = bt.indicators.CrossOver(self.bb.bot,self.datas[0].close,plot=False)\n            # To keep track of pending orders and buy price/commission\n            self.order = None\n            self.buyprice = None\n            self.buycomm = None\n\n        def log(self, txt, dt=None):\n            ''' Logging function for this strategy'''\n            dt = dt or self.datas[0].datetime.date(0)\n            print('%s, %s | %s' % (dt.isoformat(),self.datas[0].datetime.time(0), txt))\n\n        def notify_order(self, order):\n            if order.status in [order.Submitted, order.Accepted]:\n                # Buy/Sell order submitted/accepted to/by broker - Nothing to do\n                return\n\n            # Check if an order has been completed\n            # Attention: broker could reject order if not enough cash\n            if order.status in [order.Completed]:\n                if order.isbuy():\n                    self.log(\n                        'BUY EXECUTED, Price: %.2f, Cost: %.2f, Comm %.2f' %\n                        (order.executed.price,\n                         order.executed.value,\n                         order.executed.comm))\n\n                    self.buyprice = order.executed.price\n                    self.buycomm = order.executed.comm\n                else:  # Sell\n                    return\n                    self.log('SELL EXECUTED, Price: %.2f, Cost: %.2f, Comm %.2f' %\n                             (order.executed.price,\n                              order.executed.value,\n                              order.executed.comm))\n\n                self.bar_executed = len(self)\n\n            elif order.status in [order.Canceled, order.Margin, order.Rejected]:\n                self.log('Order Canceled/Margin/Rejected')\n\n            self.order = None\n\n        def notify_trade(self, trade):\n            if not trade.isclosed:\n                return\n\n            self.log('OPERATION PROFIT, GROSS %.2f, NET %.2f' %\n                     (trade.pnl, trade.pnlcomm))\n\n        def next(self):\n            if not self.position:\n                if self.signalSell[0] > 0:\n                    self.order = self.sell(size=size)\n            else:\n                if self.signalBuy[0] > 0:\n                    self.order = self.buy(size=size)\n                    self.log(\"target signal\")\n                if self.datas[0].close[0] < (1-targetPrice/100)*self.position.price:\n                    self.log(\"target price\")\n                    self.order = self.buy(size=size)\n                if self.datas[0].close[0] > (1+stopLoss/100)*self.position.price:\n                    self.log(\"Stop loss\")\n                    self.order = self.buy(size=size)\n                    \n    cerebro = bt.Cerebro()\n\n    data = bt.feeds.PandasData(dataname=stockPandasTot[symbol+\".NS\"][::-1],timeframe=bt.TimeFrame.Days)\n    cerebro.adddata(data)\n    cerebro.addstrategy(BullishMACrossover)\n\n    cerebro.broker.setcash(cash)\n\n    cerebro.broker.setcommission(commission=0.001)\n    cerebro.broker.set_shortcash(True)\n    cerebro.broker.set_coc(True)\n\n    print('Starting Portfolio Value: %.2f' % cerebro.broker.getvalue())\n\n    cerebro.run()\n\n    print('Final Portfolio Value: %.2f' % cerebro.broker.getvalue())\n    cerebro.plot(style=\"candlestick\")",
      "metadata": {
        "tags": [],
        "jupyter": {
          "source_hidden": true
        },
        "trusted": true
      },
      "execution_count": 41,
      "outputs": [
        {
          "output_type": "display_data",
          "data": {
            "text/plain": "<IPython.core.display.Markdown object>",
            "text/markdown": "# Set the variables to this strategy here"
          },
          "metadata": {}
        },
        {
          "output_type": "display_data",
          "data": {
            "text/plain": "<IPython.core.display.Markdown object>",
            "text/markdown": "> We will improve UI shortly"
          },
          "metadata": {}
        },
        {
          "output_type": "display_data",
          "data": {
            "text/plain": "<IPython.core.display.Markdown object>",
            "text/markdown": "If interested on the `coding` aspect, please click the 3 dot's above to see comments on code and change accordingly"
          },
          "metadata": {}
        },
        {
          "output_type": "display_data",
          "data": {
            "text/plain": "interactive(children=(IntSlider(value=50000, continuous_update=False, description='Cash (Rs):', max=100000, st…",
            "application/vnd.jupyter.widget-view+json": {
              "version_major": 2,
              "version_minor": 0,
              "model_id": "1ecb096fa49e480598d0779082abe94d"
            }
          },
          "metadata": {}
        }
      ]
    },
    {
      "cell_type": "markdown",
      "source": "---\n### Understanding above plot\n\n> Please increase the size of the plot to the entire width of the screen, before reading this section. You can do the same by dragging the triangular element shown at the bottom right corner of the plot\n\nThe plot above has quite a lines and legends on them.\nThe legend is available on the left side indicating various items.\n\nWe shall move from the bottom most element and move upwards.\n#### Bollinger Bands\nThe Bollinger bands provide of volatility, oversold and even overbought prices. It contains 3 lines namely the top, middle and bottom lines.\n[https://en.wikipedia.org/wiki/Bollinger_Bands]\n#### Volume\nThe volume is indicated by bars of either gray or red colour. The respective value is availabe on the left part of the plot along the y-axis. Exact values for volume cannot be extracted currently. A red bar indicates a decrease in stock price over the time period. A grey bar indicates an increase in stock price over the given time period.\n#### Triangles\nThe triangles represent positions taken up according to the strategy mentioned by code above. A buy position/ signal will be generated if the triangle is green and pointed upwards, while a sell position/ sell signal is generated with the red downward pointing triangle.\n#### Trading dots\nThe next canvas involves a set of dots representing either profit or losses which have occured by following the strategy. Here too the magnitudes can be separated by the colour of the dot and the cursor value on hovering over dots. One can also approximate the values with the data on the scale located on the right.\n#### Portfolio value\nThe final screen on the top indicates the portfolio value and cash value. Each are differentiated by the respective color.",
      "metadata": {
        "tags": []
      }
    }
  ]
}