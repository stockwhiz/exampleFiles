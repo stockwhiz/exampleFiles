{
  "metadata": {
    "kernelspec": {
      "name": "python",
      "display_name": "Python (Pyodide)",
      "language": "python"
    },
    "language_info": {
      "codemirror_mode": {
        "name": "python",
        "version": 3
      },
      "file_extension": ".py",
      "mimetype": "text/x-python",
      "name": "python",
      "nbconvert_exporter": "python",
      "pygments_lexer": "ipython3",
      "version": "3.8"
    }
  },
  "nbformat_minor": 4,
  "nbformat": 4,
  "cells": [
    {
      "cell_type": "code",
      "source": "#piplite presence will be shown with these statememnts\ntry:    \n    import piplite\nexcept ModuleNotFoundError:\n    piplite=None\n# Use these packages for download of data\nif piplite:\n    await piplite.install(\"mplfinance\")\n    await piplite.install(\"finta\")\n    await piplite.install(\"ipympl\")\n    await piplite.install(\"ipywidgets\")\n    await piplite.install(\"jinja2\")\n    try:\n        await piplite.install(\"/pypi/backtrader-1.9.76.123-py3-none-any.whl\")\n    except ValueError as e:\n        print(\"localExampleEnv-failed\")\n        try: \n            await piplite.install(\"http://localhost/staticcollected/_output/pypi/backtrader-1.9.76.123-py3-none-any.whl\")\n        except ValueError as e:\n            print(\"localProd00env-failed\")\n            await piplite.install(\"http://www.stockwhiz.in/staticcollected/_output/pypi/backtrader-1.9.76.123-py3-none-any.whl\")\n    # This is for the fetch in piplite\n    import js \n    from pyodide.ffi import to_js\n    from js import Object\nelse:\n    import yfinance\n#3 Imports of all the files\nimport json\nimport pandas as pd\nfrom datetime import datetime\nimport numpy as np\nimport matplotlib\nimport matplotlib.pyplot as plt\nimport mplfinance as mpf\nimport scipy as sp\nfrom IPython.display import display, Markdown\nimport backtrader as bt\nimport finta\nimport ipywidgets as widgets\n\n%matplotlib widget\npd.options.display.max_columns = None\npd.options.display.max_rows = None",
      "metadata": {
        "tags": [],
        "jupyter": {
          "source_hidden": true
        },
        "trusted": true
      },
      "execution_count": null,
      "outputs": []
    },
    {
      "cell_type": "markdown",
      "source": "---\n\n# 11 Bullish Swings\n\nClick $>>$ button to run the entire script first\n\n**Buy Signal**\n> BUY 100 shares when Aroon up(14,0) crosses above Aroon down(14,0) and Close(0) lower than Prev N(High,-1,day) at hour candle interval using Candlestick chart chart. Enter trade between 00:00 to 23:59\n\n**Sell Signal**\n> SELL 100 shares at stop loss % of 5 or target profit % of 10 at hour candle interval using Candlestick chart chart.\n\nPlease feel free to change to any **NSE SYMBOL** to the below list, separated by a comma",
      "metadata": {}
    },
    {
      "cell_type": "code",
      "source": "symbols = \"FACT\"",
      "metadata": {
        "trusted": true
      },
      "execution_count": null,
      "outputs": []
    },
    {
      "cell_type": "code",
      "source": "corsprox = \"https://corsproxy.io/?\"\napiBaseURL = \"https://query1.finance.yahoo.com/v8/finance/chart/\"\nrangeOfData = \"2mo\"\nintervalOfData = \"60m\"\napiSymbol = []\nfor symbol in symbols.split(\",\"):\n    apiSymbol.append(symbol+\".NS\")\nstockPandasTot = {}\nfor apiSymbolIndivi in apiSymbol:\n    apiCompleteURL = corsprox+apiBaseURL+apiSymbolIndivi+\\\n        \"?range=\"+rangeOfData+\"&interval=\"+intervalOfData\n    options = { \"mode\": \"cors\",\n                \"credentials\":\"omit\",\n                \"headers\": {'Accept': 'application/json',\n                            'User-Agent': 'Mozilla/5.0 (Windows NT 10.0; Win64; x64) AppleWebKit/537.36 (KHTML, like Gecko) Chrome/58.0.3029.110 Safari/537.3',\n                            'Origin':'https://yahoo.com',\n                            }\n    }\n    if piplite:\n        resp = await js.fetch(apiCompleteURL, to_js(options, dict_converter=Object.fromEntries))\n        text = await resp.text()\n        # print(text)\n        pan = pd.read_json(text)\n        a_hist = pan['chart'][1][0]\n        stockPandas = pd.DataFrame(a_hist['indicators']['quote'][0],\n                               index=pd.to_datetime(a_hist['timestamp'],unit='s'))\n        stockPandas = stockPandas.reindex(columns=['open','high','low','close','volume'])\n        stockPandas = stockPandas[::-1]\n    else:\n        stockPandas = yfinance.download(apiSymbolIndivi,period=rangeOfData,interval=intervalOfData,progress=False)\n        stockPandas = stockPandas.round(2).rename(columns={\n                                                    'Open': 'open',\n                                                    'High': 'high',\n                                                    'Low': 'low',\n                                                    'Close': 'close',\n                                                    'Adj Close': 'adj close',\n                                                    'Volume': 'volume'\n                                                })\n        stockPandas = stockPandas[::-1]\n    stockPandasTot[apiSymbolIndivi] = stockPandas\n    print(apiSymbolIndivi)",
      "metadata": {
        "tags": [],
        "jupyter": {
          "source_hidden": true
        },
        "trusted": true
      },
      "execution_count": null,
      "outputs": []
    },
    {
      "cell_type": "markdown",
      "source": "## An MACD line\n\n<img src=\"https://commodity.com/wp-content/uploads/technical-analysis/Arooncompare.gif\" width=\"700\" height=\"300\"/>\n\n### Buy signal\n> BUY 10 shares when Aroon up(14,0) crosses above Aroon down(14,0) and Close(0) lower than Prev N(High,-1,day) at hour candle interval using Candlestick chart chart. Enter trade between 00:00 to 23:59\n\n\n- if AroonUp crosses AroonDown\n    - $AroonUp[0]-AroonDown[0] > 0$\n    - $AroonUp[-1] - AroonDown[-1] < 0$\n- if HourClose lower than PreviousDailyHigh\n    - $HourClose[0] < PrevDailyHigh[-1]$\n    \n### Sell signal\n> SELL 10 shares at stop loss % of 2.5 or target profit % of 5 at hour candle interval using Candlestick chart chart.\n\nIf either of the below conditions are met\n- Stop Loss condition met if $stock.hour[0] < order.buy*0.975$\n- Target price condition met if $stock.close[0] > order.buy*1.05$",
      "metadata": {}
    },
    {
      "cell_type": "code",
      "source": "display(Markdown(\"# Set the variables to this strategy here\"))\ndisplay(Markdown(\"> We will improve UI shortly\"))\ndisplay(Markdown(\"If interested on the `coding` aspect, please click the 3 dot's above to see comments on code and change accordingly\"))\ndisplay(Markdown(f'{symbol}'))\n@widgets.interact(_aroonPeriod=widgets.IntSlider(min=0, max=25, step=1, value=14,continuous_update=False),\\\n                  _stopLoss=widgets.FloatSlider(min=0, max=20, step=0.1, value=2.5,continuous_update=False),\\\n                  _targetPrice=widgets.FloatSlider(min=0, max=20, step=0.1, value=5,continuous_update=False),\\\n                  _numberOfStocks=widgets.IntSlider(min=0, max=100, step=1, value=10,continuous_update=False),\\\n                  _initialCash=widgets.IntSlider(min=0, max=100000, step=100, value=50000,continuous_update=False),\n                 )\ndef voilas(_aroonPeriod,_stopLoss,_targetPrice,_numberOfStocks,_initialCash):\n    class CrossOverStrat(bt.Strategy):\n        def __init__(self):\n            # Keep a reference to the hourly dataseries\n            self.hour = self.datas[0]\n            # Keep a reference to the daily dataseries\n            self.prevDate = self.datas[1]\n            #Some indicators\n            self.AroonUpDown = bt.indicators.AroonUpDown(self.hour,period=_aroonPeriod)\n            # self.AroonDown = bt.indicators.AroonDown(self.hour,period=aroonPeriod)\n\n            # To keep track of pending orders and buy price/commission\n            self.order = None\n            self.buyprice = None\n            self.buycomm = None\n\n        def log(self, txt, dt=None):\n            ''' Logging function for this strategy'''\n            dt = dt or self.datas[0].datetime.date(0)\n            print('%s, %s' % (dt.isoformat(), txt))\n\n        def notify_order(self, order):\n            if order.status in [order.Submitted, order.Accepted]:\n                # Buy/Sell order submitted/accepted to/by broker - Nothing to do\n                return\n\n            # Check if an order has been completed\n            # Attention: broker could reject order if not enough cash\n            if order.status in [order.Completed]:\n                if order.isbuy():\n                    self.log(\n                        'BUY EXECUTED, Price: %.2f, Cost: %.2f, Comm %.2f' %\n                        (order.executed.price,\n                         order.executed.value,\n                         order.executed.comm))\n\n                    self.buyprice = order.executed.price\n                    self.buycomm = order.executed.comm\n                else:  # Sell\n                    self.log('SELL EXECUTED, Price: %.2f, Cost: %.2f, Comm %.2f' %\n                             (order.executed.price,\n                              order.executed.value,\n                              order.executed.comm))\n\n                self.bar_executed = len(self)\n\n            elif order.status in [order.Canceled, order.Margin, order.Rejected]:\n                self.log('Order Canceled/Margin/Rejected')\n\n            self.order = None\n\n        def notify_trade(self, trade):\n            if not trade.isclosed:\n                return\n\n            self.log('OPERATION PROFIT, GROSS %.2f, NET %.2f' %\n                     (trade.pnl, trade.pnlcomm))\n\n        def next(self):\n            # Simply log the closing price of the series from the reference\n            # Check if an order is pending ... if yes, we cannot send a 2nd one\n            if self.order:\n                return\n            # Check if we are in the market\n            if not self.position:\n                if self.AroonUpDown.aroonup[0] - self.AroonUpDown.aroondown[0] > 0:\n                    if self.AroonUpDown.aroonup[-1] - self.AroonUpDown.aroondown[-1] < 0:\n                        if self.hour.close[0] < self.prevDate.high[-1]:\n                            self.order = self.buy(size=_numberOfStocks)\n            if self.position:\n                # Already in the market ... we might sell\n                if self.hour.close >= (1+_targetPrice/100)*self.buyprice:\n                    self.log(f'target price reached')\n                    self.order = self.sell(size=_numberOfStocks)\n                if self.hour.close <= (1-_stopLoss/100)*self.buyprice:\n                    self.log(f'stop loss reached')\n                    self.order = self.sell(size=_numberOfStocks)\n    cerebro = bt.Cerebro()\n\n    data = bt.feeds.PandasData(dataname=stockPandasTot[symbol+\".NS\"][::-1],timeframe=bt.TimeFrame.Minutes)\n    cerebro.adddata(data)\n    cerebro.resampledata(data, timeframe=bt.TimeFrame.Days,compression=1)\n\n    cerebro.addstrategy(CrossOverStrat)\n\n    cerebro.broker.setcash(_initialCash)\n\n    cerebro.broker.setcommission(commission=0.0025)\n\n    print('Starting Portfolio Value: %.2f' % cerebro.broker.getvalue())\n\n    cerebro.run()\n\n    print('Final Portfolio Value: %.2f' % cerebro.broker.getvalue())\n    cerebro.plot(style='candlestick')",
      "metadata": {
        "tags": [],
        "jupyter": {
          "source_hidden": true
        },
        "trusted": true
      },
      "execution_count": null,
      "outputs": []
    },
    {
      "cell_type": "markdown",
      "source": "---\n### Understanding above plot\n\n> Please increase the size of the plot to the entire width of the screen, before reading this section. You can do the same by dragging the triangular element shown at the bottom right corner of the plot\n\nThe plot above has quite a lines and legends on them.\nThe legend is available on the left side indicating various items.\n\nWe shall move from the bottom most element and move upwards.\n#### Aroon\nThe Aroon Indicator (often referred to as Aroon Up Down) is a range bound, technical indicator that is actually a set of two separate measurements designed to measure how many periods have passed since price has recorded an n-period high or low low with “n” being a number of periods set at the trader’s discretion. For example a 14 Day Aroon-Up will take the number of days since price last recorded a 14 day high and then calculate a number between 0 and 100.[(wiki)](https://www.tradingview.com/support/solutions/43000501801-aroon/)\n#### Volume\nThe volume is indicated by bars of either gray or red colour. The respective value is availabe on the left part of the plot along the y-axis. Exact values for volume cannot be extracted currently. A red bar indicates a decrease in stock price over the time period. A grey bar indicates an increase in stock price over the given time period.\n#### Close price line\nThe black line represents the close price line of the stock over a period of 48months, dates are visible at bottom of graph extracted from x value.\n\n *If you would like a candle stick pattern please add `style=\"candlestick\"` to the arguments of the arguments of the plot command*\n \nThe default candlestick patterns are available over the course of the day, these follow the typical format with grey representing a rise in prices and red representing a fall in prices. Exact price and date values of cursor position are available at the bottom. The x-value represents date, while the y-value represents the price at cursor location.\n#### Triangles\nThe triangles represent positions taken up according to the strategy mentioned by code above. A buy position/ signal will be generated if the triangle is green and pointed upwards, while a sell position/ sell signal is generated with the red downward pointing triangle.\n#### Trading dots\nThe next canvas involves a set of dots representing either profit or losses which have occured by following the strategy. Here too the magnitudes can be separated by the colour of the dot and the cursor value on hovering over dots. One can also approximate the values with the data on the scale located on the right.\n#### Portfolio value\nThe final screen on the top indicates the portfolio value and cash value. Each are differentiated by the respective color.",
      "metadata": {}
    },
    {
      "cell_type": "code",
      "source": "symbols_02 = \"BPCL,PGHH,SHREECEM,HDFC,COLPAL,KOTAKBANK,TORNTPHARM,ASIANPAINT,PIDILITIND,NESTLEIND,BHARTIARTL,SOBHA,BHEL,SAIL,GAIL,SRF\"",
      "metadata": {
        "trusted": true
      },
      "execution_count": null,
      "outputs": []
    },
    {
      "cell_type": "code",
      "source": "symbols_03 = \"LICI,COALINDIA,EASEMYTRIP,IEX,CGPOWER,MSUMI,BEPL,IRCTC,CHEMPLASTS,CHENNPETRO,MARICO,TTML,NMDC,NATIONALUM,ITC,FACT,GNFC,VEDL,LSIL,GRAVITA,GUJGASLTD,KPITTECH,RITES,UGARSUGAR,JSWSTEEL,MADRASFERT,FINPIPE,BEL,PETRONET,ASHOKA,MAZDOCK,ENGINERSIN,DATAMATICS,JAMNAAUTO,MOREPENLAB,MARKSANS,ZENTEC,SAIL,CROMPTON,DABUR,CHAMBLFERT,TRIDENT,GAIL,SPIC,NBCC,SONACOMS,BLS,LAURUSLABS,TRITURBINE,MIRZAINT\"",
      "metadata": {
        "trusted": true
      },
      "execution_count": null,
      "outputs": []
    },
    {
      "cell_type": "code",
      "source": "symbols_04 = \"IRFC,RVNL,ZOMATO,MANAPPURAM,IRCON,BHEL,ENGINERSIN,PNB,IDFCFIRSTB,TATASTEEL,PATELENG,FEDERALBNK,MAHABANK,BANKBARODA,HUDCO,BANKINDIA,ICICIBANK,J&KBANK,UCOBANK,SJVN,NBCC,SAIL,CENTRALBK,UNIONBANK,SBIN,NHPC,IOB,NYKAA,BEL,AXISBANK,HSCL,TATAMOTORS,M&MFIN,CANBK,RECLTD,UJJIVANSFB,IOC,JISLJALEQS,ADANIPOWER,TATAPOWER,RENUKA,IDFC,L&TFH,IBULHSGFIN,AMBUJACEM,EQUITASBNK,GSFC,MOTHERSON,PFC,GMRINFRA,ITC,ONGC,IRB,MMTC,MSUMI,INDHOTEL,RBLBANK,IEX,NATIONALUM,GICRE,NMDC,LEMONTREE,ABFRL,TRIDENT,NIACL,ITI,NTPC,HFCL,PSB,PAYTM,JKTYRE,NFL,RAILTEL,LSIL,GAIL\"",
      "metadata": {
        "trusted": true
      },
      "execution_count": null,
      "outputs": []
    },
    {
      "cell_type": "code",
      "source": "corsprox = \"https://corsproxy.io/?\"\napiBaseURL = \"https://query1.finance.yahoo.com/v8/finance/chart/\"\nrangeOfData = \"2mo\"\nintervalOfData = \"60m\"\napiSymbol = []\nfor symbol in symbols_03.split(\",\"):\n    apiSymbol.append(symbol+\".NS\")\nstockPandasTot_02 = {}\nfor apiSymbolIndivi in apiSymbol:\n    print(apiSymbolIndivi)\n    apiCompleteURL = corsprox+apiBaseURL+apiSymbolIndivi+\\\n        \"?range=\"+rangeOfData+\"&interval=\"+intervalOfData\n    options = { \"mode\": \"cors\",\n                \"credentials\":\"omit\",\n                \"headers\": {'Accept': 'application/json',\n                            'User-Agent': 'Mozilla/5.0 (Windows NT 10.0; Win64; x64) AppleWebKit/537.36 (KHTML, like Gecko) Chrome/58.0.3029.110 Safari/537.3',\n                            'Origin':'https://yahoo.com',\n                            }\n    }\n    if piplite:\n        resp = await js.fetch(apiCompleteURL, to_js(options, dict_converter=Object.fromEntries))\n        text = await resp.text()\n        pan = pd.read_json(text)\n        a_hist = pan['chart'][1][0]\n        stockPandas = pd.DataFrame(a_hist['indicators']['quote'][0],\n                               index=pd.to_datetime(a_hist['timestamp'],unit='s'))\n        stockPandas = stockPandas.reindex(columns=['open','high','low','close','volume'])\n        stockPandas = stockPandas[::-1]\n    else:\n        stockPandas = yfinance.download(apiSymbolIndivi,period=rangeOfData,interval=intervalOfData,progress=False)\n        stockPandas = stockPandas.round(2).rename(columns={\n                                                    'Open': 'open',\n                                                    'High': 'high',\n                                                    'Low': 'low',\n                                                    'Close': 'close',\n                                                    'Adj Close': 'adj close',\n                                                    'Volume': 'volume'\n                                                })\n        stockPandas = stockPandas[::-1]\n    stockPandasTot_02[apiSymbolIndivi] = stockPandas",
      "metadata": {
        "tags": [],
        "jupyter": {
          "source_hidden": true
        },
        "trusted": true
      },
      "execution_count": null,
      "outputs": []
    },
    {
      "cell_type": "code",
      "source": "## Variables\n# Number of days checked [Can we push this dates checked to different cell?]\ndatesChecked = 15\n# weights of each individual day (Shape in reshape function should be matched. )\nweights = np.array([1, 15, 10, 5, 2])\n# Define the strategy values here\naroonPeriod = 14\n# Adding additional weights, will be helfull only while checking.\nweights = np.append(weights, np.ones((datesChecked-5,1)))\nsignalBullDict = {}",
      "metadata": {
        "trusted": true
      },
      "execution_count": null,
      "outputs": []
    },
    {
      "cell_type": "code",
      "source": "for symbol_02 in stockPandasTot_02:\n    # Reversing data because finta likes calculations with oldest date on top\n    selectData = stockPandasTot_02[symbol_02][::-1]\n    # These data are reversed again to show the latest date at the top row.\n    # Calculate the high-low periods\n    # This is how the Aroon signature is calculated\n    high_period = selectData['high'].rolling(aroonPeriod + 1).apply(lambda x: x.argmax())\n    low_period = selectData['low'].rolling(aroonPeriod + 1).apply(lambda x: x.argmin())\n    # Calculate the Aroon Up and Aroon Down\n    aroon_up =100 - (((aroonPeriod - high_period) / aroonPeriod) * 100)\n    # the aroon calculations are mentioned in the wiki mentioned below\n    aroon_up = aroon_up[::-1]\n    aroon_down =100 - (((aroonPeriod - low_period) / aroonPeriod) * 100)\n    aroon_down = aroon_down[::-1]\n    diff_0 = (aroon_up - aroon_down).fillna(0)\n    diff_1 = (aroon_up.shift(-1) - aroon_down.shift(-1)).fillna(0)\n    signChangeGood = ((diff_0 > 0) & (diff_1 < 0)).astype(int).to_numpy()\n    signChange = signChangeGood\n    signChange = signChange[0:datesChecked]\n    signalBull = weights*signChange\n    signalBullDict[symbol_02] = signalBull",
      "metadata": {
        "trusted": true
      },
      "execution_count": null,
      "outputs": []
    },
    {
      "cell_type": "code",
      "source": "signalBullPand = pd.DataFrame(signalBullDict).T\n\ndef color_mapper(row):\n    # compute the sum of the row\n    sum = row.sum()\n    # if the sum is negative, return red\n    if sum < 0:\n        return ['color: white; background-color: rgb(120, 50, 20)'] * len(row)\n    # if the sum is positive, map it to a shade of green based on its magnitude\n    else:\n        magnitude = sum*50\n        r = 15\n        g = magnitude\n        b = 15\n        return [f'color: white; background-color: rgb({r},{g},{b})'] * len(row)\n\ndef make_pretty(styler):\n    styler.apply(color_mapper,axis=1)\n    styler.format(precision=1)\n    return styler\n\nsignalBullPand.style.pipe(make_pretty)",
      "metadata": {
        "jupyter": {
          "source_hidden": true
        },
        "tags": [],
        "trusted": true
      },
      "execution_count": null,
      "outputs": []
    }
  ]
}