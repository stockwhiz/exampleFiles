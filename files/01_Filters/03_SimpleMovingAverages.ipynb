{
  "metadata": {
    "kernelspec": {
      "display_name": "Python (Pyodide)",
      "language": "python",
      "name": "python"
    },
    "language_info": {
      "codemirror_mode": {
        "name": "python",
        "version": 3
      },
      "file_extension": ".py",
      "mimetype": "text/x-python",
      "name": "python",
      "nbconvert_exporter": "python",
      "pygments_lexer": "ipython3",
      "version": "3.8"
    }
  },
  "nbformat_minor": 4,
  "nbformat": 4,
  "cells": [
    {
      "cell_type": "code",
      "source": "import json\nimport js \nfrom js import fetch\nimport pandas as pd\nfrom datetime import datetime\nfrom pyodide.ffi import to_js\nfrom js import Object\n\n# Special packages already ready\nimport numpy as np\nimport scipy as sp\nimport matplotlib.pyplot as plt\n# Custom importations from special package\n# Below stuff to be shortened\nimport piplite\nawait piplite.install(\"mplfinance\")\nimport mplfinance as mpf\nawait piplite.install(\"finta\")\nimport finta \n%pip install jinja2\n\npd.options.display.max_columns = None",
      "metadata": {
        "tags": [],
        "jupyter": {
          "source_hidden": true
        },
        "trusted": true
      },
      "execution_count": null,
      "outputs": []
    },
    {
      "cell_type": "markdown",
      "source": "---\n\n# 03 Simple moving average crossover \n\n## About\nA simple moving average trading occurs whenever the price of the stock moves over or below the average price of the stock for a said period of days\n\n## Usage\nClick the $>>$ icon above to run this script\nOr run each of the cells individually as a Jupyter Notebook\n\n## What?\nThis script provides you with an ability to determine a simple change in the moving average of the stock. \nNote: *Feel free to move around for appropriate day count at the moving average*\n\n---",
      "metadata": {}
    },
    {
      "cell_type": "markdown",
      "source": "## Grabbing data\n\n***The data being provisioned is only for educational purposes***\n\n\n*Note: You can use the free service limits usage to only 100 symbols per minute. Tampering with this system will result in discontinuation of the service*\n\n## Adding symbols\n\nPlease feel free to add any **NSE SYMBOL** to the below list",
      "metadata": {}
    },
    {
      "cell_type": "code",
      "source": "symbols = \"ADANIENT,ADANIPORTS,APOLLOHOSP,ASIANPAINT,AXISBANK,\\\nBAJAJ-AUTO,BAJFINANCE,BAJAJFINSV,BHARTIARTL,BPCL,BRITANNIA,\\\nCIPLA,COALINDIA,\\\nDIVISLAB,DRREDDY,\\\nEICHERMOT,\\\nGRASIM,\\\nHCLTECH,HDFC,HDFCBANK,HDFCLIFE,HEROMOTOCO,HINDALCO,HINDUNILVR,\\\nICICIBANK,INDUSINDBK,INFY,ITC,\\\nJSWSTEEL,\\\nKOTAKBANK,\\\nLT,\\\nM&M,MARUTI,\\\nNESTLEIND,NTPC,\\\nONGC,\\\nPOWERGRID,\\\nRELIANCE,\\\nSBIN,SBILIFE,SUNPHARMA,\\\nTATAMOTORS,TATASTEEL,TCS,TATACONSUM,TECHM,TITAN,\\\nULTRACEMCO,UPL,\\\nWIPRO\"",
      "metadata": {
        "trusted": true
      },
      "execution_count": null,
      "outputs": []
    },
    {
      "cell_type": "code",
      "source": "corsprox = \"https://corsproxy.io/?\"\napiBaseURL = \"https://query1.finance.yahoo.com/v8/finance/chart/\"\nrangeOfData = \"4mo\"\nintervalOfData = \"1d\"\napiSymbol = []\nfor symbol in symbols.split(\",\"):\n    apiSymbol.append(symbol+\".NS\")\nstockPandasTot = {}\nfor apiSymbolIndivi in apiSymbol:\n    print(apiSymbolIndivi)\n    apiCompleteURL = corsprox+apiBaseURL+apiSymbolIndivi+\\\n        \"?range=\"+rangeOfData+\"&interval=\"+intervalOfData\n    resp = await js.fetch(apiCompleteURL, to_js({\n                    \"mode\": \"cors\",\n                    \"credentials\":\"omit\",\n                    \"headers\": {'Accept': 'application/json',\n                                'User-Agent': 'Mozilla/5.0 (Windows NT 10.0; Win64; x64) AppleWebKit/537.36 (KHTML, like Gecko) Chrome/58.0.3029.110 Safari/537.3',\n                                'Origin':'https://yahoo.com',\n                                }\n                    }, dict_converter=Object.fromEntries))\n    text = await resp.text()\n    pan = pd.read_json(text)\n    a_hist = pan['chart'][1][0]\n    stockPandas = pd.DataFrame(a_hist['indicators']['quote'][0],\n                               index=pd.to_datetime(a_hist['timestamp'],unit='s'))\n    stockPandas = stockPandas.reindex(columns=['open','high','low','close','volume'])\n    stockPandas = stockPandas[::-1]\n    stockPandasTot[apiSymbolIndivi] = stockPandas.round(2)\n# Uncomment below line to show data\n# stockPandasTot",
      "metadata": {
        "tags": [],
        "jupyter": {
          "source_hidden": true
        },
        "trusted": true
      },
      "execution_count": null,
      "outputs": []
    },
    {
      "cell_type": "markdown",
      "source": "## Simple moving average crossover\n\n[![Moving Average crossover](https://th.bing.com/th/id/R.9de5e9b8cde12f94f618278cdd074c92?rik=yxyy%2bEHrN%2fP4ZQ&riu=http%3a%2f%2fnewtraderu.com%2fwp-content%2fuploads%2f2013%2f01%2fMovingAverage2.gif&ehk=76K1eC4aQMP%2fm4kgMZf420B2bk0Vpfzkhr2WvshtJPA%3d&risl=&pid=ImgRaw&r=0)](https://th.bing.com/th/id/R.9de5e9b8cde12f94f618278cdd074c92?rik=yxyy%2bEHrN%2fP4ZQ&riu=http%3a%2f%2fnewtraderu.com%2fwp-content%2fuploads%2f2013%2f01%2fMovingAverage2.gif&ehk=76K1eC4aQMP%2fm4kgMZf420B2bk0Vpfzkhr2WvshtJPA%3d&risl=&pid=ImgRaw&r=0)\n\nOne can choose the lengths of periods which they are interested in for crossovers\n$$\nL_1 = 5 \\\\\nL_2 = 15 \n$$\n\nThe moving average crossover signal is formed when 0th day smaller moving average is greater than the larger moving average\n- No previous trend required\n- $SMA_1 > SMA_2$\n- dates weightages are till day 3 as follows\n    - With weights as follows\n    - $ day 0 : 15 $\n    - $ day 1 : 10 $\n    - $ day 2 : 5 $\n    - $ day 3 : 2 $",
      "metadata": {}
    },
    {
      "cell_type": "code",
      "source": "## Variables\n# Your choice of moving average days\nL_1 = 5\n# Your choice of moving average days\n# Please ensure L_2 is greater than L_1\nL_2 = 15\n# Number of days checked [Can we push this dates checked to different cell?]\ndatesChecked = len(stockPandas['close'])\n# weights of each individual day (Shape in reshape function should be matched. )\nweights = np.array([15, 10, 5, 2])\n# Adding additional weights, will be helfull only while checking.\nweights = np.append(weights, np.ones((datesChecked-4,1)))\nsignalBullDict = {}",
      "metadata": {
        "trusted": true
      },
      "execution_count": null,
      "outputs": []
    },
    {
      "cell_type": "code",
      "source": "for symbol in stockPandasTot:\n    selectData = stockPandasTot[symbol][::-1]\n    #The rows have open, high, low, close, volume data\n    SMA_1 = finta.TA.SMA(selectData,L_1)[::-1]\n    SMA_2 = finta.TA.SMA(selectData,L_2)[::-1]\n    diff = (SMA_1-SMA_2).fillna(0)\n    sign_change = (diff < 0) & (diff.shift(1) > 0)\n    signalBull = sign_change.astype(int).to_numpy()\n    signalBull = weights*signalBull\n    signalBullDict[symbol] = signalBull\n# Uncomment the below line for debugging\n# signalBullDict",
      "metadata": {
        "tags": [],
        "trusted": true
      },
      "execution_count": null,
      "outputs": []
    },
    {
      "cell_type": "markdown",
      "source": "---\n### Displaying results \nIn this section we shall see the various manners that we can display the results\n\nThe below dataframe shows how the bullish signal has appeared on the chart for the past 50 days",
      "metadata": {}
    },
    {
      "cell_type": "code",
      "source": "signalBullPand = pd.DataFrame(signalBullDict).T\n\ndef color_mapper(row):\n    # compute the sum of the row\n    sum = row.sum()\n    # if the sum is negative, return red\n    if sum < 0:\n        return ['color: white; background-color: rgb(120, 50, 20)'] * len(row)\n    # if the sum is positive, map it to a shade of green based on its magnitude\n    else:\n        magnitude = sum*10\n        r = 15\n        g = magnitude\n        b = 15\n        return [f'color: white; background-color: rgb({r},{g},{b})'] * len(row)\n\ndef make_pretty(styler):\n    styler.apply(color_mapper,axis=1)\n    styler.format(precision=1)\n    return styler\n\nsignalBullPand.style.pipe(make_pretty)",
      "metadata": {
        "trusted": true
      },
      "execution_count": null,
      "outputs": []
    },
    {
      "cell_type": "code",
      "source": "for symbol in stockPandasTot:\n    stockPandas = stockPandasTot[symbol]\n    print(symbol)\n    mpf.plot(stockPandas.iloc[::-1],type='candle',mav=(5,15),volume=True)",
      "metadata": {
        "trusted": true
      },
      "execution_count": null,
      "outputs": []
    }
  ]
}