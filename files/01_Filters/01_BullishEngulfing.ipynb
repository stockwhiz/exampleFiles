{
  "cells": [
    {
      "cell_type": "code",
      "execution_count": null,
      "metadata": {
        "jupyter": {
          "source_hidden": true
        },
        "tags": [],
        "trusted": true
      },
      "outputs": [],
      "source": [
        "#piplite presence will be shown with these statememnts\n",
        "try:    \n",
        "    import piplite\n",
        "except ModuleNotFoundError:\n",
        "    piplite=None\n",
        "# Use these packages for download of data\n",
        "if piplite:\n",
        "    await piplite.install(\"mplfinance\")\n",
        "    await piplite.install(\"jinja2\")\n",
        "    # This is for the fetch in piplite\n",
        "    import js \n",
        "    from pyodide.ffi import to_js\n",
        "    from js import Object\n",
        "else:\n",
        "    import yfinance\n",
        "#3 Imports of all the files\n",
        "import json\n",
        "import pandas as pd\n",
        "from datetime import datetime\n",
        "import numpy as np\n",
        "import matplotlib.pyplot as plt\n",
        "import mplfinance as mpf\n",
        "import scipy as sp"
      ]
    },
    {
      "cell_type": "markdown",
      "metadata": {},
      "source": [
        "---\n",
        "\n",
        "# Bullish Signal\n",
        "\n",
        "#### Why?\n",
        "- Did you find it difficult to understand candlestick charts? \n",
        "- Did you fail to predict a pattern correctly?\n",
        "- Why didn't you check the ratios before \"betting your money\"?\n",
        "\n",
        "#### Usage\n",
        "Click the >>(Run all steps) icon above to run this Script\n",
        "\n",
        "#### What?\n",
        "The script provides you with an ability to determine the purely bearish candlestick pattern. This script has been explained in [this](https://zerodha.com/varsity/chapter/single-candlestick-patterns-part-1/) blog by Karthik Rangappa of Zerodha's educational head.\n",
        "*Note: Values are limits are taken from the blog, feel free to change to your likings.*\n",
        "\n",
        "---"
      ]
    },
    {
      "cell_type": "markdown",
      "metadata": {},
      "source": [
        "## Grabbing data\n",
        "\n",
        "***The data being provisioned is only for educational purposes***\n",
        "\n",
        "\n",
        "*Note: You can use the free service limits usage to only 100 symbols per minute. Tampering with this system will result in discontinuation of the service*\n",
        "\n",
        "## Adding symbols\n",
        "\n",
        "Please feel free to add any **NSE SYMBOL** to the below list"
      ]
    },
    {
      "cell_type": "code",
      "execution_count": null,
      "metadata": {
        "trusted": true
      },
      "outputs": [],
      "source": [
        "symbols = \"ADANIENT,ADANIPORTS,APOLLOHOSP,ASIANPAINT,AXISBANK,\\\n",
        "BAJAJ-AUTO,BAJFINANCE,BAJAJFINSV,BHARTIARTL,BPCL,BRITANNIA,\\\n",
        "CIPLA,COALINDIA,\\\n",
        "DIVISLAB,DRREDDY,\\\n",
        "EICHERMOT,\\\n",
        "GRASIM,\\\n",
        "HCLTECH,HDFC,HDFCBANK,HDFCLIFE,HEROMOTOCO,HINDALCO,HINDUNILVR,\\\n",
        "ICICIBANK,INDUSINDBK,INFY,ITC,\\\n",
        "JSWSTEEL,\\\n",
        "KOTAKBANK,\\\n",
        "LT,\\\n",
        "M&M,MARUTI,\\\n",
        "NESTLEIND,NTPC,\\\n",
        "ONGC,\\\n",
        "POWERGRID,\\\n",
        "RELIANCE,\\\n",
        "SBIN,SBILIFE,SUNPHARMA,\\\n",
        "TATAMOTORS,TATASTEEL,TCS,TATACONSUM,TECHM,TITAN,\\\n",
        "ULTRACEMCO,UPL,\\\n",
        "WIPRO\""
      ]
    },
    {
      "cell_type": "code",
      "execution_count": null,
      "metadata": {
        "jupyter": {
          "source_hidden": true
        },
        "tags": [],
        "trusted": true
      },
      "outputs": [],
      "source": [
        "corsprox = \"https://corsproxy.io/?\"\n",
        "apiBaseURL = \"https://query1.finance.yahoo.com/v8/finance/chart/\"\n",
        "rangeOfData = \"1mo\"\n",
        "intervalOfData = \"1d\"\n",
        "apiSymbol = []\n",
        "for symbol in symbols.split(\",\"):\n",
        "    apiSymbol.append(symbol+\".NS\")\n",
        "stockPandasTot = {}\n",
        "for apiSymbolIndivi in apiSymbol:\n",
        "    print(apiSymbolIndivi)\n",
        "    apiCompleteURL = corsprox+apiBaseURL+apiSymbolIndivi+\\\n",
        "        \"?range=\"+rangeOfData+\"&interval=\"+intervalOfData\n",
        "    options = { \"mode\": \"cors\",\n",
        "                \"credentials\":\"omit\",\n",
        "                \"headers\": {'Accept': 'application/json',\n",
        "                            'User-Agent': 'Mozilla/5.0 (Windows NT 10.0; Win64; x64) AppleWebKit/537.36 (KHTML, like Gecko) Chrome/58.0.3029.110 Safari/537.3',\n",
        "                            'Origin':'https://yahoo.com',\n",
        "                            }\n",
        "    }\n",
        "    if piplite:\n",
        "        resp = await js.fetch(apiCompleteURL, to_js(options, dict_converter=Object.fromEntries))\n",
        "        text = await resp.text()\n",
        "        pan = pd.read_json(text)\n",
        "        a_hist = pan['chart'][1][0]\n",
        "        stockPandas = pd.DataFrame(a_hist['indicators']['quote'][0],\n",
        "                               index=pd.to_datetime(a_hist['timestamp'],unit='s'))\n",
        "        stockPandas = stockPandas.reindex(columns=['open','high','low','close','volume'])\n",
        "        stockPandas = stockPandas[::-1]\n",
        "    else:\n",
        "        stockPandas = yfinance.download(apiSymbolIndivi,period=rangeOfData,interval=intervalOfData,progress=False)\n",
        "        stockPandas = stockPandas.round(2)\n",
        "        stockPandas = stockPandas[::-1]\n",
        "    stockPandasTot[apiSymbolIndivi] = stockPandas"
      ]
    },
    {
      "cell_type": "markdown",
      "metadata": {},
      "source": [
        "### Notes\n",
        "You currently have a limitation of receiving data of at most 3 month and requests to 200 requests per hour\n",
        "\n",
        "---"
      ]
    },
    {
      "cell_type": "markdown",
      "metadata": {},
      "source": [
        "## Bullish Marubozu\n",
        "\n",
        "[![A Bullish Marubozu](https://howtotradeblog.com/wp-content/uploads/2021/01/bullish-marubozu-pattern.jpg)](https://howtotradeblog.com/wp-content/uploads/2021/01/bullish-marubozu-pattern.jpg)\n",
        "\n",
        "The bullish Marubozu is described when \n",
        "$$ Open=Low \\\\\n",
        "\\& \\\\ High=Close$$\n",
        "\n",
        "### Bullish signal\n",
        "\n",
        "Bullish signal is when the 0 day's signal envelopes the previous day's signal \n",
        "\n",
        "Here are the requirements as from above blog entry\n",
        "- No previous trend required\n",
        "- Close > Open\n",
        "- Shadows should be within $0.3\\%$\n",
        "- Candle should be from $1\\%$ to $10\\%$ range\n",
        "- dates weightages are till day 3 as follows\n",
        "  - With weights as follows\n",
        "  - $ day 0 : 15 $\n",
        "  - $ day 1 : 10 $\n",
        "  - $ day 2 : 5 $\n",
        "  - $ day 3 : 2 $"
      ]
    },
    {
      "cell_type": "code",
      "execution_count": null,
      "metadata": {
        "trusted": true
      },
      "outputs": [],
      "source": [
        "## Variables\n",
        "# Number of days checked [Can we push this dates checked to different cell?]\n",
        "datesChecked = 16\n",
        "# weights of each individual day (Shape in reshape function should be matched. )\n",
        "weights = np.array([15, 10, 5, 2])\n",
        "# Adding additional weights, will be helfull only while checking.\n",
        "weights = np.append(weights, np.ones((datesChecked-4,1)))\n",
        "signalBullDict = {}"
      ]
    },
    {
      "cell_type": "code",
      "execution_count": null,
      "metadata": {
        "tags": [],
        "trusted": true
      },
      "outputs": [],
      "source": [
        "# I personally prefer numpy for math calculations.\n",
        "for symbol in stockPandasTot:\n",
        "    print(symbol)\n",
        "    selectData = stockPandasTot[symbol].to_numpy()\n",
        "    signalBull = np.zeros(datesChecked)\n",
        "    for i in range(datesChecked) :\n",
        "        row = selectData[i,:]\n",
        "        #The rows have open, high, low, close, volume data\n",
        "        # only check for today\n",
        "        if i == 0:\n",
        "        # If: Close < Open signal -1\n",
        "            if row[3] < row[0]:\n",
        "                signalBull[i] = -1\n",
        "            # If: Close > Open\n",
        "        if row[3] > row[0]: \n",
        "            upperShadow = row[1] - row[3]\n",
        "            lowerShadow = row[0] - row[2]\n",
        "            # if: Shadows within appropriate limits.\n",
        "            if (upperShadow/row[3] < 0.005) and (lowerShadow/row[3] < 0.005):\n",
        "                candle = row[3] - row[0]\n",
        "                # if: Candles are within appropriate limits (not too small or large)\n",
        "                if (candle/row[3] > 0.01) and (candle/row[3] < 0.1 ):\n",
        "                    signalBull[i] = 1\n",
        "    signalBull = weights*signalBull\n",
        "    signalBullDict[symbol] = signalBull\n",
        "# Uncomment the below line for debugging\n",
        "# signalBullDict"
      ]
    },
    {
      "cell_type": "markdown",
      "metadata": {},
      "source": [
        "---\n",
        "### Displaying results \n",
        "In this section we shall see the various manners that we can display the results\n",
        "\n",
        "The below dataframe shows how the bullish signal has appeared on the chart for the past 50 days"
      ]
    },
    {
      "cell_type": "code",
      "execution_count": null,
      "metadata": {
        "tags": [],
        "trusted": true
      },
      "outputs": [],
      "source": [
        "signalBullPand = pd.DataFrame(signalBullDict).T\n",
        "\n",
        "def color_mapper(row):\n",
        "    # compute the sum of the row\n",
        "    sum = row.sum()\n",
        "    # if the sum is negative, return red\n",
        "    if sum < 0:\n",
        "        return ['color: white; background-color: rgb(120, 50, 20)'] * len(row)\n",
        "    # if the sum is positive, map it to a shade of green based on its magnitude\n",
        "    else:\n",
        "        magnitude = sum*10\n",
        "        r = 15\n",
        "        g = magnitude\n",
        "        b = 15\n",
        "        return [f'color: white; background-color: rgb({r},{g},{b})'] * len(row)\n",
        "\n",
        "def make_pretty(styler):\n",
        "    styler.apply(color_mapper,axis=1)\n",
        "    styler.format(precision=1)\n",
        "    return styler\n",
        "\n",
        "signalBullPand.style.pipe(make_pretty)"
      ]
    },
    {
      "cell_type": "markdown",
      "metadata": {},
      "source": [
        "### Plotting\n",
        "Innumerous plotting is possible with several methods I prefer the mplfinance package, but others will be easily implemented. Here you can see the volumes, \n",
        "moving averages and candlebar."
      ]
    },
    {
      "cell_type": "code",
      "execution_count": null,
      "metadata": {
        "trusted": true
      },
      "outputs": [],
      "source": [
        "for symbol in stockPandasTot:\n",
        "    stockPandas = stockPandasTot[symbol]\n",
        "    print(symbol)\n",
        "    mpf.plot(stockPandas.iloc[::-1],type='candle',mav=(3,6,9),volume=True)"
      ]
    },
    {
      "cell_type": "code",
      "execution_count": null,
      "metadata": {},
      "outputs": [],
      "source": []
    }
  ],
  "metadata": {
    "kernelspec": {
      "display_name": "jup02",
      "language": "python",
      "name": "python3"
    },
    "language_info": {
      "codemirror_mode": {
        "name": "python",
        "version": 3
      },
      "file_extension": ".py",
      "mimetype": "text/x-python",
      "name": "python",
      "nbconvert_exporter": "python",
      "pygments_lexer": "ipython3",
      "version": "3.10.9"
    }
  },
  "nbformat": 4,
  "nbformat_minor": 4
}
